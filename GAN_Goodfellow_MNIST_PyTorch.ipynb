{
  "nbformat": 4,
  "nbformat_minor": 0,
  "metadata": {
    "colab": {
      "provenance": [],
      "collapsed_sections": [],
      "authorship_tag": "ABX9TyMeUUEz6aZ35He9yrDquCEO",
      "include_colab_link": true
    },
    "kernelspec": {
      "name": "python3",
      "display_name": "Python 3"
    },
    "language_info": {
      "name": "python"
    },
    "accelerator": "GPU"
  },
  "cells": [
    {
      "cell_type": "markdown",
      "metadata": {
        "id": "view-in-github",
        "colab_type": "text"
      },
      "source": [
        "<a href=\"https://colab.research.google.com/github/rahultheogre/GAN_Googdfellow_Pytorch/blob/main/GAN_Goodfellow_MNIST_PyTorch.ipynb\" target=\"_parent\"><img src=\"https://colab.research.google.com/assets/colab-badge.svg\" alt=\"Open In Colab\"/></a>"
      ]
    },
    {
      "cell_type": "markdown",
      "source": [
        "# Basic GAN on MNIST"
      ],
      "metadata": {
        "id": "ZQftSI6Dw7F0"
      }
    },
    {
      "cell_type": "markdown",
      "source": [
        "- The following is a step by step introductory GAN implemention in PyTorch as first proposed by Goodfellow in his seminal paper that introduced GANs to the world.\n",
        "- One can find the link of the paper here: https://arxiv.org/pdf/1406.2661.pdf\n",
        "- The images, code-snippets etc are from that paper."
      ],
      "metadata": {
        "id": "tDDOw16GwRX-"
      }
    },
    {
      "cell_type": "markdown",
      "source": [
        "## Basic Libraries"
      ],
      "metadata": {
        "id": "sKWTgD9EZzMj"
      }
    },
    {
      "cell_type": "code",
      "execution_count": 12,
      "metadata": {
        "id": "3lAvQasFZh4Q"
      },
      "outputs": [],
      "source": [
        "import torch\n",
        "import torch.nn as nn\n",
        "import torch.optim as optim\n",
        "import torchvision\n",
        "\n",
        "import torchvision.datasets as datasets #to fetch MNIST\n",
        "\n",
        "from torch.utils.data import DataLoader \n",
        "import torchvision.transforms as transform #for image data transformations"
      ]
    },
    {
      "cell_type": "markdown",
      "source": [
        "## Discriminator Class definition"
      ],
      "metadata": {
        "id": "4orxgIMqZ1nY"
      }
    },
    {
      "cell_type": "code",
      "source": [
        "class Discriminator(nn.Module): #inherit from nn.Module\n",
        "  def __init__(self,img_dim): #initialization of Discrimnator\n",
        "    # for MNIST img_dim would be 784 (a flattened version of the 28*28*1 image)\n",
        "    super().__init__() \n",
        "    self.disc = nn.Sequential( #defining disc object of class Discriminator\n",
        "    # there are 2 FC layers in this Discriminator:                           \n",
        "        nn.Linear(img_dim, 128), #take img_dim to 128 nodes #linear aggregator\n",
        "        nn.LeakyReLU(0.1), #LeakyRelU preferred for GANs #activation function\n",
        "        nn.Linear(128,1), #FC layer before the output layer #from 128 nodes to 1 node\n",
        "        nn.Sigmoid(), #output layer\n",
        "    )\n",
        "\n",
        "  def forward(self, x):\n",
        "    return self.disc(x) #in the Discriminator class we are running the disc method\n",
        "    # which is basically nn.Sequential of various operators"
      ],
      "metadata": {
        "id": "of7ndooVciNj"
      },
      "execution_count": 13,
      "outputs": []
    },
    {
      "cell_type": "markdown",
      "source": [
        "## Generator class definition"
      ],
      "metadata": {
        "id": "8ODjuWdkZ4pQ"
      }
    },
    {
      "cell_type": "code",
      "source": [
        "class Generator(nn.Module):\n",
        "  def __init__(self, z_dim, img_dim): #the generator class takes in \n",
        "  # z_dim and img_dim as parameters\n",
        "  # z_dim is the dimension of the latent noise\n",
        "    super().__init__()\n",
        "    self.gen = nn.Sequential( \n",
        "    # There are two FC layers in this simple Generator\n",
        "        nn.Linear(z_dim, 256), #dimension of the hidden noise\n",
        "        # 256 is the number of nodes in first later\n",
        "        nn.LeakyReLU(0.1),\n",
        "        nn.Linear(256,img_dim), #The generator is transforming\n",
        "        # z_dim to img_dim\n",
        "        nn.Tanh(), # we are using Tanh so that output \n",
        "        # of the pixel values may be between -1 and 1\n",
        "        # we are going to normalize the input from MNIST to  -1 and 1\n",
        "        # so the output should be the same.\n",
        "        ) \n",
        "    \n",
        "  def forward(self, x):\n",
        "    return self.gen(x)"
      ],
      "metadata": {
        "id": "yNFj8bCbm7WO"
      },
      "execution_count": 14,
      "outputs": []
    },
    {
      "cell_type": "markdown",
      "source": [
        "## Hyperparameters"
      ],
      "metadata": {
        "id": "1zYxPV2xatbY"
      }
    },
    {
      "cell_type": "code",
      "source": [
        "device = 'cuda' if torch.cuda.is_available() else 'cpu'\n",
        "lr = 3e-4 #usually good with Adam in the case of GANs\n",
        "z_dim = 256 #dimension of the noise being fed into the GAN\n",
        "#GANS are incredibly sensitive to hyperparameters\n",
        "image_dim = 28*28*1 #MNIST\n",
        "batch_size = 32 #standard batch size\n",
        "num_epochs = 50"
      ],
      "metadata": {
        "id": "1lViMddS5Njp"
      },
      "execution_count": 15,
      "outputs": []
    },
    {
      "cell_type": "markdown",
      "source": [
        "## Initializing the Discriminator and Generator"
      ],
      "metadata": {
        "id": "uxNPAVM3bV8h"
      }
    },
    {
      "cell_type": "code",
      "source": [
        "disc = Discriminator(image_dim).to(device) #creating an object of class\n",
        "#Discriminator and taking it to device"
      ],
      "metadata": {
        "id": "5rjlypbUmcvx"
      },
      "execution_count": 16,
      "outputs": []
    },
    {
      "cell_type": "code",
      "source": [
        "# similarly creating an object of Generator class ad saving it to device. \n",
        "gen = Generator(z_dim, image_dim).to(device)"
      ],
      "metadata": {
        "id": "KzPM7sOqmv1R"
      },
      "execution_count": 17,
      "outputs": []
    },
    {
      "cell_type": "code",
      "source": [
        "# setting some fixed noise because we want to see how it changes across the epochs\n",
        "# we are going to use tensorboard that will give us very good visualization\n",
        "# fixed_noise = torch.randn((batch_size, z_dim)).to(device) # random  noise is a matrix \n",
        "# of size z_dim and there are batch_size of them"
      ],
      "metadata": {
        "id": "_QubGJ6ybg0P"
      },
      "execution_count": 18,
      "outputs": []
    },
    {
      "cell_type": "markdown",
      "source": [],
      "metadata": {
        "id": "qlaky2HKbfsO"
      }
    },
    {
      "cell_type": "markdown",
      "source": [
        "## Transformation of data\n"
      ],
      "metadata": {
        "id": "3VKIz_vGo284"
      }
    },
    {
      "cell_type": "markdown",
      "source": [
        "\n",
        "- Transforms are common image transformations available in the torchvision.transforms module. \n",
        "- They can be chained together using Compose\n",
        "- We also normalize the data by subtracting a mean of 0.5\n",
        "- "
      ],
      "metadata": {
        "id": "cMV6dSi7xrCe"
      }
    },
    {
      "cell_type": "code",
      "source": [
        "transformed = transform.Compose(\n",
        "    [transform.ToTensor(), \n",
        "     transform.Normalize((0.5,), (0.5,))]\n",
        ")\n",
        "\n",
        "# 'transformed' is the new image object that we end up with after a series of transformations"
      ],
      "metadata": {
        "id": "XBMYgVqUqVre"
      },
      "execution_count": 19,
      "outputs": []
    },
    {
      "cell_type": "markdown",
      "source": [
        "## Preprocessing of Dataset"
      ],
      "metadata": {
        "id": "0u4wDmVxx3jM"
      }
    },
    {
      "cell_type": "code",
      "source": [
        "\n",
        "#datasets.MNIST calls the MNIST dataset we are after\n",
        "dataset = datasets.MNIST(root='dataset/', #the folder where the dataset gets saved temporarily\n",
        "                         transform=transformed, #we are transforming the image data \n",
        "                         download=True) # we download it if it has already not been downloaded\n",
        "# dataset is the final transformed object that has been downloaded and saved in the local folder called dataset"
      ],
      "metadata": {
        "id": "b8sjQUWl1xSx"
      },
      "execution_count": 20,
      "outputs": []
    },
    {
      "cell_type": "markdown",
      "source": [
        "## Creating a DataLoader object"
      ],
      "metadata": {
        "id": "ioAt20rTyK0L"
      }
    },
    {
      "cell_type": "markdown",
      "source": [
        "- The idea is to use batch-normalization for faster processing\n",
        "- DataLoader helps in various functionalities like creating batches of the data we have"
      ],
      "metadata": {
        "id": "LSkqkVhtyQtF"
      }
    },
    {
      "cell_type": "code",
      "source": [
        "# loader is an object of the DataLoader which gives us batches of dataset fed into it. \n",
        "loader = DataLoader(dataset, batch_size=batch_size, shuffle=True)"
      ],
      "metadata": {
        "id": "uAtl3GwjyLKT"
      },
      "execution_count": 21,
      "outputs": []
    },
    {
      "cell_type": "markdown",
      "source": [
        "## Defining Optimizer"
      ],
      "metadata": {
        "id": "hbjH7hXByje8"
      }
    },
    {
      "cell_type": "code",
      "source": [
        "# we are using Adam for both\n",
        "opt_disc = optim.Adam(disc.parameters(),lr=lr) #optimizer for Discriminator\n",
        "opt_gen = optim.Adam(gen.parameters(),lr=lr)"
      ],
      "metadata": {
        "id": "n8v1H-TL2nO-"
      },
      "execution_count": 22,
      "outputs": []
    },
    {
      "cell_type": "markdown",
      "source": [
        "## Defining Loss Function"
      ],
      "metadata": {
        "id": "awnJhFniypn8"
      }
    },
    {
      "cell_type": "code",
      "source": [
        "#Like Goodfellow we will use BCE loss\n",
        "criterion = nn.BCELoss()"
      ],
      "metadata": {
        "id": "1XNmLb5v3Kfx"
      },
      "execution_count": 23,
      "outputs": []
    },
    {
      "cell_type": "markdown",
      "source": [
        "# Training the Network"
      ],
      "metadata": {
        "id": "7q6gpWo2xHKJ"
      }
    },
    {
      "cell_type": "markdown",
      "source": [
        "### VALUE FUNCTION"
      ],
      "metadata": {
        "id": "MNF72gJBy5_W"
      }
    },
    {
      "cell_type": "markdown",
      "source": [
        "![image.png](data:image/png;base64,iVBORw0KGgoAAAANSUhEUgAAA6EAAACPCAYAAAALFd3xAAAAAXNSR0IArs4c6QAAAARnQU1BAACxjwv8YQUAAAAJcEhZcwAADsMAAA7DAcdvqGQAAHiZSURBVHhe7d0FXFT5Fgfw38wQKiihiIoiGNjdiih2romJgt26rt1da3fH2t25tmLi2oqFhEqpgNIwM+fdYQYZYAYGRYx3vu/DPrkz3LnxP+f/P3duiEgAxhhjjDHGGGMsE4hV/88YY4wxxhhjjH13XIQyxhhjjDHGGMs0XIQyxhhjjDHGGMs0XIQyxhhjjDHGGMs0XIQyxhhjjDHGGMs0XIQyxhhjjDHGGMs0XIQyxhhjjDHGGMs0XIQyxhhjjDHGGMs0XIQyxhhjjDHGGMs0XIQyxhhjjDHGGMs0XIQyxhhjjDHGGMs0XIQyxhhjjDHGGMs0XIQyxhhjjDHGGMs0XIQyxhhjjDHGGMs0XIQyxhhjjDHGGMs0XIQyxhhjjDHGGMs0XIQyxhhjjDHGGMs0XIQyxhhjjDHGGMs0XIQyxhhjjDHGGMs0XIQyxhhjjDHGGMs0XIQyxhhjjDHGGMs0XIQyxhhjjDHGGMs0XIQyxhhjjDHGGMs0XIQyxhhjjDHGGMs0XIQyxhhjjDHGfguy4Hfwj1T98iuKDYRfkFT1y++Li1DGfig5oj9648ntyzh/8RZefIxVTVeQIeiNH6JVvzHGGGOMMe2iH6/HwFH78E6umpCqn3UMFozTU/ph8e0w1e+/JxEJVP/OeLI3uH7wCl7HJP8IMUzLNEGLcuaq338Q2Se8vnEaRw6fRFD1vzGrvSVX5Woi3rjj3PGjOP44P4Yu7YcyeqoXMprUA1uGTcBejyB8CIsWUoIYWU1yw9xIonw5MhSfZUawKmmP1j36oUOlnD/JforAG/dzOH70OB7nH4ql/cpA500k9cfVjQuxfNsZPNcvgWoVS8Amlwjvnz/AG7P2mDGnM8wvDke77ZVxdEc3fFOkCO3c2/0iTp86jVvGzlg7yh4Gqpd+FNmn17hx+ggOnwxC9b9nob3l99yj4Xh6cA12XLqH/x74I0uxJhg0aQQaFlC2r7TIPnnD/eJpnDp9C8bOazHKXrn1tE3PNPJAnJ01FIueVMbEtaNQy0Q1naXPTxgfmS4j2hK3x9+EHIFnZ2HooieoPFHIa2ntyJ9qHCXDJ293XDx9CqdvGcNZaIeZnZYVwp8exJodl3Dvvwfwz1IMTQZNwuiGBVSv/kR+cMx+OjcDfZddx4fwGJDwP5kUMDArAqeZq9E3yYBTiqcb+mLoPy8Rp6cPiTwOlNcJi7YPRYVkgy554HEM7XEcDTatQus8qbTE7z4Gk8JjyzBM2OuBoA9hiBYKYnFWE+Q2N0L8yEMaidDPMhhZlYR96x7o16ESciZf3E+XMa7bZpRethFdbXQbr/xyFEXo9xNFQZ736OzyDlRITyRUoiIyqjSEdro9Id+QONV7fpQQur15DLUqbkQiGFDdxT4kU73CiELdt9Jkl2qUSwzSsxtB12JUL3xPYbvIyUREEtsBdDZcNS2elMLf3aF9k5uTjbEVNZ1/i0JVr/w4oeS+dTK5VMtFYuiR3YhrpOsmCrm9krqXtyQrh+G0/cFHYe3Uycj/xDBq0aodVTczJPsFnsleTyepN/27fDL1q5uPJBCTRffDQlT+YCG3afOYVlTcSMgJBnVpsc/3jLwoujOnDpXosocCZdH0cHEDoU1LyKrvadXrqZN6/0vLJ/ejuvkkBLEFdT+s3Hrapmeq6FPUx0r4fL2SNOZWZgTob+hnjI8fISPaErfH30Q0nepjJcSDHpUccyuNfu1nGkdJyfvf5TS5X13KJwGJLbrTj0jLUXfmUJ0SXWhPoIyiHy6mBrnEJLHqq3r1J/NTxOxH2tbGlEQiI2q0wpe0VwZSeruiAZnadaTll30oTFNDkwXQ7q7VyPVgUKrtMFPHYBRGu5xMSCSxpQFJB7YkDX9Hd/ZNpuY2xmTVdD7d0jCwDb88gmq1XE2vv20hflrfuQhViT5PAwsKDV1IUg6LvH5ckgq7T+5P1QNNSs/n1iB9LkI1i9hNTjlEmVaExlwdTnZ6YsrT4xhFqKYlJRQRs2uRsX5RGnA6RDXtx4rY7UQ5RLoWoUIneXAwVTI1olJ9D5CP1mwbSoe6C4NivRI0+mbGbPjo030pv+THDbLD7rtT0tB7TnNr6H/3IlTmt4n+MDWkesv9lPEtC6Lbe7fRudfp2QrRdLpvfpKkKDa1Tc8sUvK/toPW779HwT8uqdJ996c6H4D5Wf3o+PjxMqIt/QztkWUEqf812rF+P93TsCNT5PKfbRwVfZr65pf8mCJU5keb/jAlw3rLyS9+Q8go6PZe2nbudfzLP5amXP0zxGwcuY8vHd9+HJe91d5+ZG9pa8/29Pd97Ts17MIwqlD3b/LQWrD9gDFYzFUabqdH4jw96JjmgS1FP5xNtYz1qeiA05RiZCt7RxtblaSuewJ+yxolc86aEGVBtiwixT+QNZvRjzlVQx6IY391w5zbMaoJSnqS3/Qr7owglkAv03aWDK+vXoeXzAhVHWogm2pqUoYo068fGmbzxPbFu/FGp/P9vy+xRE/n9hx6eSLadV+Nd3WX4diqtrDWeu6uCRwbVYOxRXXYl8mYc4lEWQx/2CmG8sBj+KvbHCQNPT1kRuhFX/sXVz4DBoaGyv0ktkAVJ2fUt80S/7puRMhiqGnraZueWSTIU7MLercrD7Mfk1QReOwvdJtzG0mz6q/nR8bHzyEj2tKPbo8so0jy1ESX3u1QPtmO1JzLf7JxlDDe/GFpOfoa/lV2ODBUdjiwqOIE5/q28S//ONpy9c8Qs3qwtckPiUiOd97e0HwrHmH5D8/CqRKTMayclr5bHoC9iw/AytkZdlqa448Yg8leX8V1LxmMqjqghuaBLQzL9EO/htnguX0xdicf2IrzCctcEVcXrcfT3/A+RZnU7BQFqIraP6XBz3Fx21wMbl0dzec8QOiTXRjTribs8uZF0Vo9sfZe2hfkxvqex+KBTmjVriPaN6mK0mUd0GnCDjwITdiRsXiwsjWK5LBCq/VPcW1RGzRu3Ay9hX8n3Z9S+J6cjo7VCsPC3BJFqjtj8Y1goemri4TnsZno3b4V6lcuBrtyddFh3B48jVC9LBRSIR5nsG5CF9RtuwCP/M5iSvPisLQoBpedb1TvSSAE3MlJaOdYG/b2tdGo+xQcehYL6aujmNK9EWrb26N2nRboPX0vHoYr3i8UacenolsjB9TrvhL3EzJJrC/OLx4Ip1bt0LF9E1QtXRYOnSZgx4NQtWXXZblkCLiyAsOcO6JTF2c4d+yMIWsf4FOKK4bD8WTXOPTqMxKTJo3BIOH9zi5TcCDgGyvCiKOYvdgdVLw/xnXJqZqogXFhFMojRtjFvTiUylXn8vc3sGZYZ3TpNxIjBnZEvap10H3BZQQl/Ik0GM8vbsPcwa1Rvfkcob08wa4x7VDTLi/yFq2FnmvvIUXrkwXgyophwrbphC5CouvYeQjWPviEtC+qjsDVkaWQ23EhYgZfh8+hnrBNo8/Okr80Ok2eiGZaklaM/x0cXDwcbWu0w7IX/ri4oDeaVSmEvPlLoU7HiTjwSreyIK3tFPN0D0Z3qKdsj47tMXzRITxSbRiZzwWsGNYGdeq2w9gjr5UT1cU+wMrWRZDDqhXWP72GRW0ao3Gz3sK/k2VSqS9OTu+IaoUtYG5ZBNWdF+NGcLJ9G+mJYzN7o32r+qhczA7l6nbAuD1PhS2rmfTBSrg0bYxmk87gs1yK/5Y7CXEvfH6LCTj5SfUmITf4nl+MgU6t0K5jezSpWhplHTphwg4hF31jc04zLuXvcHJSOzjWtod97UboPuUQnsVK8eroFHRvpMwJdVr0xvS9D4WIE8he4/jUbmjkUA/dV95XTIH042OcWDUOXes1wuRrqpspfE27ln/E9ZUD0bFTD3RvWx/2Dk3RdfhsrNl1FKdOn4Hb81DVGxPFCtu3dZEcsGoldIzXFqGNsG2b9V6Pxz4nMamdo7K9NOqOKYeeIVb6CkendEej+HWtgxa9p2OvMqkJq3UcU7s1gkO97lj5JakpNl9aeT0NMf64c3AxhretgXbLXsD/4gL0blYFhfLmR6k6HTHxwCudCufvEh9ptWVZCDzOrMOELnXRdsEj+J2dgubFLWFRzAU7kw9Q5GHwvr4fS0d1hkPNP3E6IgjXVw9GiyqFYZmrIKq5rsfDSKFZ+F/CsqHtUbdMfuSxroB289ygHmIZ0ZY0ziODlk/YEbixZhg6d+mHkSOEtlqvKup0X4DLCTtCHow72yYLMe8gxI49HJr1wZxTnojwOITJ3RrE96U9p+zBozTulin/eB0rhf3cqUd3tK0vzKdpVwyfvQa7jp7C6TNueK5qf2n2Lxm13oJIz2OY2bs9WtWvjGJ25VC3wzjsSRx0JJMB4wrpRzw+sQrjutZDo8nXhCwp0DWX6zSOSiCD77m/0buJap8174O5Jz2FqQpSvDg6Fa6NHVC33Sjsf674HDne31iDYZ27oN/IERjYsR6q1umOBZeDtMxfRR6K+3umoWd826iHUceUrTby0X7M+6sTGiryUr2ROPqlX1BIa6yXjFTYPi5NhW0yCWc+yyH9bzmcFP1N4xaYcNwnXZ//NePiTw93YFx3JyGHd0SbetVQs+0obLmj3O7acrVi12mM2QS6jC2/pr/RwNTBAeX0pPByu4zXygag5hMujOmCVXkXYOfIMloPFr7/pw9G+Atx75JXQ2GT8WMw3UTg6OzFcKfi6D+uC7SPbI1RuFAeiMMuYu+hdynas0nr2fgr2zz0X5J0nCX/eAojaxSCXeO5uPWr3glY9Y3o9xVznUYW0xPG6obUeG2QaqKUXl/ZQQs6FiE96FHBBp2pQ5eRtHTHfto2/Q+y0ReRQcXJdDeVS0ejH6+kFvnzUP157vQ5foqMPl6aQNVNJZS93DA6EZjw5XUc3Z1YjvSFz2+5WflOJSl5zrcXputTySZtqYnTOFq19yjtndeeihiISK/4CHL78s1/CF2Z5EDV+x4k7/hv58Po/t+OZCrWIyunbeQrk1HAlXU0qWtFMhGD9Et3pqF9etJfg5qQTRZ9KjX2Vvxckgqmw66Kay/0qfbCxNOUpR5/k302xWmww+mq+pkAsne0vIEtuR5WnTge/ZhWtshPeerPI3fVask+XqIJ1U1Jkr0cDTsRKMxTl+WS0dv9vah4vto05WqwcjlkQXR+REXKJkp6TWjY6f5UxNqVDiecMxB6gYaVdaA5z77thHXFqbhF40/FParlVFyVz7vIyVREIsMm9KUpJRdzl2ZUMyaDmvPoZfxiyejDrg5koZeHnPcrF1z6+grtWNCRiugJ61ewAXXu0IVGLt1B+7dNpz9s9ElkUJEmqzc+2Vva36s45as9ha6qzluRBZ2nERWzkSiNa0JlgVupjZlYmGeNb95OCrKP12njxC5U0VRM0CtM9Tq0pc5/zqYl8yeQS3VL0hOJSL9wbzoSlHjyRsylIVQo+emGOmwnhahb46mcEA/ivMlPJxHa1tpmZNtxJwUkflRScXdpYjl9gmFLShp6njTfXpiuX5KatG1CTuNW0d6je2le+yJkINKj4iPcEpcz5ApNcqhOfQ96K7dx2H3629GUxHpW5LTNV9leNZLSy3k140/zabgq+aks0fR4ZQvKn6c+zUsMHro0oTqZSrJTuWEn6Ev6ED710pBCGk671TJdp7gUBB8mV8X1OPq1aaFXwodJyeNveyHuhDY1/GqSNiV7t5wa2AqxJ4S/7N1FWj2lN9W2FP5eUoiGXFK+M93tWtjKt6ZWJVObXnQ8WPF7HD1f15LySEASi8rUzrUXjdv9Mv6dycXdnUjl9EGGLTer8q9S8GFXshL+Xr/2QkpcLQ/6216IFT07Gp40qdG75Q3I1vXwl+u8dc/rWgj78frGidSlotBGhNgsXK8Dte38J81eMp8muFQnSz0hf+gXpt5HEq8byrT4SKstywLoyrpJ1LWiibDs+lS681Dq0/MvGtTEhrLol6Kxya7bkvq60Z41g6mqsfD5JpWoTa9eNGbJLjp96RSt6FSE9EVZqVrfcdStzQBaceQq3bi8m8Y65BQ+z47+couOn0dGtCWt88iA5VPE2d0Z1cjYoCbNU+4Ikn3YRR0s9CiP836109dk5HeoF9kJ+0Ji04/+VVx+pTiVrXVJ+mPlw9T7FYWoWzS1qinZ9Dou9MyCuOe0rmUeoX+WkEXlduTaaxztVny+Lv1Lhqy3orlMIofqfemgctAhNJe/yVHI+3pWTrTNV1scfMO4Qvj3xdVTqHdty/j1LjTkUmIO0pbL0zWOSk7421VNyEwYmxg4LqO36qsk84tfrm4HPsT/GnN3BlUzNqCa814Kf6V4/QPt6mBBenmcSS0cFcFMQwolPx03hq6NsBPGmobUdH383lWKuUYj7ISxqTCeWPdRNS3NsV78mzSSvpxHNYWcaNBwVbI+UdfPT++4OI5e/dOVSpbpQpufKFu47O0GaimMN8RmTWi1pzJeNOVqbTEbT8c+LP39jRZhO6lddiFurfrQqcTmHy/cbSJ1GH0hSR+TUjSd6m1Fubrs1xjnGT0G05niVNyiylNxj6aagD7TLifFdbGG1ETjwDaazg20IdN2O1S/K8XcHE0lhG0vylKHFv2iF43+wCJUKeqgM+UUi8m85QbySdiGMm9aVMdAGJxVoZlPtWxY6TNa4GBM+iVG0fUkjVZKzxY4kJFIQta9jqk6qLSKUD0q2uuI6hx+gcyfVjfKKgyYEjv9GPeJVN6sOW1QHwCF7acuOYWGrV+Zpj9Sdcb+K6mBgdAoTBrQ8leKZZdRuP9b+qCe9NXE3BxDJYVBUfama+ndl88PiL+uQKxfkaY8UAvgD9upQ3Uhocevr3I9jfVL0KikG0DYNAvIwUgIaOtedEyVnFNbLlngHuqc14BKCwVpksX8uIlaxHdaCUVoDLn9ZUcG1n3p9Jfrq2XktXIEzVVfznQTBt6zqgodszG13KTscLSJuaXYXkLCK/onXdGyTWW+y8jRUESGdReTt2qbSh9Pp8r6Qpvof1YIZ5Wog+Qs7D+xeUvakNj4yHtRHTIQOtQqM58KS6acFrinM+U1KJ1iEPhxUwtlwZBKERqys73QgQmD8opT6eG3bCZ1ig66nhAjeoWo70m1Ti3cnaZUFdquyIAqTXuomihsNw2DbJ23kzAw2dBSaI9iS+q0R23/CNPXtihNA86mkl3TKkL1ilKvI6rrNQUy/9XUKKvQ5kqNJeWmjiH3ieXJrPkGtaJQEXpdhLwhFNuVp5Mq9DTQXoTGx4ixPpUYdT1xPRXi84oRiSTW1CsheIRl0L0ITU9cxtDNMSVJT5Sdmq59l7gNAhTXsYqF9jKFkoZ/B6ouFOeJc42gfZ2Ejiv5AELndi0I3knthc45W+utwlBLJfpi/CBOlL01/fNlYJaStiJUSGo0pqSe8PdNaW1iUqOATX8IcaBPFac8EDJygg+0vUN1GpEw8E5XXk+NUJAsryesrx4V6ntSWVTECyf3KVUpq0gYzFWa9iUeMyc+dG3LMvJf2UBYdhGZNFhOynQdTv5vPwhz0CDuDk0oqzigU4v+jn+zktRjNlUT9o/E2oUOqn1g+IGulEvYD2XGu6vthwxoS9rm8a3LJ/OlZY6GJDKsS4sTdwRNr6wv/G1/OpuknYTShWHFSV+cneznPRAG6ELMdN+b2LenIljI02bibNR665dIEEJB0S6E/rn1P5QQCjq3i29d7xh3mljejJpvUB20ihdG+7sIxapInypPf6S2/5L6+nGFUsS+TmQqxFr6itC0x1EaRVyiYcJAXWTkSEvVBtIy/w3UpuY4VT8gI99ljmQoDNLrLvZWbQ8pPZ5emfSFXN1fvRFoLEKl9GRGlfgxYJIiUPqUZlVVrFNiEarrWE8T7UWo7p+voOu4WPpyKdUztSKXL98KKITQ8d42pG9Qkkarvj3Qmqs1xmz6xpbpyxFaxLjRX0IxLjJsTGvUS4Qod5re8U9SH+JoJIyHVtTPRiVG39SYI7/LGEwHUo9ZVFVfRMYtNwk9XSpibsX3mYrx0J8aB7bCPplTnbIJfUQSso/kvnMJrTz2TGPx/Sv4YWeBfyHRgwQiGFsVhGXC1+NiC+TPk03ogj8hJCTFd/PxpI93YvuNSGSvWB0VDFUT40lQtFMH1Mgix9uDW3E65ZlkGohhVbo8vjwlQmwGm4LmEFMoPnxUnGwZC/dde/FE+hxbXFuiefPmyp8Oy/GfsHhCS4O7+2flnxoKYSeCUBvURO2CihUSwyiPFXJqOYfAoLILnCsZIPzSDuz2Uq2r2BR2RXJDHPcQe7ffUZ4OAzl89+7B++auqKZYX+lj7Nx+A5HZK6J60g0ASdFO6FAjC+RvD2KragNoXy453uxeg8NBeWBfv1zSUx2yZUf2JBMksCpoBb03/2BA55k45a14epIYNt1Go0dhnR9OkpL8A666PYFUryzsa5uqJmoiw5sr1/BKJixHgxaoomWbigv0wLqTB3FqQx8UjN+nsQjy8UMYyfH5U6jqdB8FCfSETSEytkLBxMYHi/x5INTe+BQSonyv/A12rzmMoDz2qF8u6Ydmy549jWvJYvH8/hOEyyWwqFAFdt+wmZJQXK+rmJcoN2wL51BOUzCqiIGDm8BUFIdHly6oJmqm83YS50OnP7vCVhyEoys247nqBfm7Qzjk3wTODt9wvorYCqXLJ97SX2xmg4LmQm8R+gHK0HPHrr1C23i+Ba4tVXEn/HRY/p+wfASphztUoZcOUjzeuR03IrOjYvUKSJo+iqJThxrIIn+Lg1tPqyamQ7ri0gCVXZxRySAcl3bsRmL426FIbjHiHu7F9jsJpzX6Yu+e92juWk1tecXQN9BXv8JBRcd2LZD6PoNnuBzS8DChjaomGlZFneomEEUHwO/9l1agO4PKcHGuBIPwS9ix20v1WWKY2hVBbnEcHu7djsTV2os975vDNT6pZWReFwtdS3yAILdtYSRGiBEqDhyMJqYixD26hAt+2k/ky/D40Lkti2EYv1/1UKhmbSjTtRHyWOXUkmtU11cL/UbOnAn7W9hi+a2EPlUkxFQB2AgxlUA/d26Yi2UI8g8QIiHBt7cl7fP4xuUTF0CPdSdx8NQG9FHuCMQG+cAvjCD//AmhSZqoCRynLkPfItG4PqMZ6i/NjrHz2yFv4uy1kML3macQA1KEh4V/OR3OsGodVDcRITrADwmhoHv/8m3rHeu+C3ufSPF8iytaqtpK8+YdsFw56ICHuzu0pb6vHleoiPWV44X0SWscpUU2ewzoLeS1SDds3ZZwmZQMPnv243MrFyE/Kn4Xo0CPdTh58BQ29Cko/CaIDYKPXxhI/hmfkjaCb6D7WO+70mlcLMX9LRtxlWqgST31cZMpmq+9jzdv3TGvZuqjE8V2TRGz6Rxbpi9HaKFnCxsrod+Xv4OPd0JWisWj5Qvh32EcGpupJmkjD0DgB4KJmZmwNMl9pzFYmuT4cNVNaEt6KGtfW9gr2sneXMG1VzJIrBqghcaBrQTmZjlA7wNUv6uIzVG58zAMbFFMy31Ufn5ppuYfQwxRGksW/fgRXgptVaLhgnixRXmULSCBPPwFnn5p0OkTf6F9/DfFwi/yYDx46A0U7oLlR0/gxAnVz8lLeCYkA5KH42iPZE8REgmdjOqfqZIUQ9fuDjCKvomdO1QJOOQE1p/LgfK2wIv92+CmqPVkHti+T4a2ziWFrk0Q/RiPlBsgZdAJyap82QKQCMv14qmw3OpSLFcUbl67i2hxLlh+SSDaSGDTYxpGVMkKn2OT0aJcBbSdfhye+rmR20j1lq8RdQNX70RBUrgWHKxTWQbZS+w76I44/VLo6moP7beWMUaReq3hWOAzbmydhdEjp2LzvXCIhUxLMu2DzgTi5I0v6iau3Y2GOJdlYoegM0Jo6Gfhv2Lkt7VV7rvkIq5gbpfWaNWyAaqVKoqiRYugWEVH/NF3g5DAVO/RmRg57WuhtEQYoAUlS1gp6L6djOoMRr/qWYVdtQ6r3BQXH8jge/AIPrdwRtW0+rl0UQ7cSBF7wm/y4AdQht5yHE2IO+Hn5KVnCJEJ6xh+FMlDL23RePzopRBrQuykDB5YlC+LAhI5wl88VU1Lh3TGpaRYV3R3MEL0zZ3Yobq+KuTEepzLUR62eIH929ziH5Qt89iOfbK2cC759T1oinYtEOe1QYGsImH+d3D7y/VOEmTNmgXiHDYonCfdDV4gQbGu3eFgFI2bO3eobqYQghPrzyGHMqlhmzKpwWP7PsjaOiNhtXTP6zHwPToTgwcMwAC1n8HTD6nerZ04pz1qlZYIeTsIAQGpBVjGxsfXtGVRWh1hasRCIa6pkBC2rUiIrpioqBTXHulKU1tKt3Qsn3GRemjtWACfb2zFrNEjMXXzPYQrd0TKdTBtiBlLeqJQjD+Cs5eAnVqhp50YeW0KIKtIaJN3bidenyvJiqxZxMhhUxiJofBt/Ytu6y1H8IOH8EZhdFl+9EtbOXHiJC49Ewb1QsEbfrSH9mcXfu24IoMlGUdpJUHRbr3QyESGBzu24JbiulTZc+w6ZginrkUT86hxEdRr7YgCn29g66zRGDl1M+6FC2NFYZvpstl18jVjvUyTfFwcjDvuzyHPbg6z5H2w2ASWFl9Zlnzt2DKZdOUIoZgqaG0KsewtvH2Uh0dkz9di3ouWmNA6t7DmaZBHIUpozwYGBkJ7SC6zx2AJonDj6h1ESQqjloN1ym35hQwv9x2Ee5w+SnV1hb2WgW3WLIZCPa0I2t9LBvQkPwZJFZ0PIez9+5Q3J5GYw9xU0RQlinz/7egzwiKEROfvA1/VEfyMIwSGkwsam0nxYLfiGwIZPP9Zg5d/rMAal3IQ+x7Gtn/DEHN7K05YdEZHa9UKkTQ+8VLYe7xPuQFgbm4aH4yStDaA/DM+fIwSOgkhiCN1yOTZa2P6ucvYNKgmLKOe49DUVqhcazAO+n79kcjYe1dwKwTIVaM2yqZS0IRfXoEN7lJYdZqCPysnPUKXlByBl+agbbW22IhWmLRgNsa0LYHsqlfTS/75Az5GCR2pMDjQZRMlJYKZal8o7tCqkZEDxu48jCPH9qJfIT94Crm98aJTOLquN0p9xchAYmaGHMJuFxkZq6Zok47tJCmOXkNbw1LuiR3LDiBQ6oX9x2Ro3aX0dxm8JKDPYYgQBpr+Pr6qI/cZgSBVBg/epwweIX2YQ5k+viJ5pDcuxfnh5NIYZtIH2K34dkLmiX/WvMQfK9bApZwYvoe34d+wGNzeegIWnTsiIfwziji3E8aNsodJwAHMnncVIcKyy99fwBE3oO7EcfjjKx9eLs7vBJfGZpA+2B3/ba7M8x+sefkHVqxxQTmxLw5v+xdhMbex9YQFOne0/tIRpSevR/g+wM2bN5P+3PdVvjc1EjOYKQMExtm1Dw0yOj6+T1v+/yAPvIQ5bauh7Uag1aQFmD2mLUpoTehySONkyJItCyKuzsLQ1S/S/iZGaIG5ncZhlL0JAg7MxryrIcJc5Hh/4QjcUBcTx/2BxFDI2P5FM8LnsAihqPWHz1cNOr5yXPGDiPO2R++2eUGee7D5XDhi7+7Eubyd4WSltlzyQFya0xbVlI0AC2aPQVvtjeDrfNexXgaTfUZomNBKPwl9TUbWJhk1tkwXPdgUtBKK2wi88QmETOaFzXP+g+P4jlBvAlqJDePviCyVSoXISS7zx2DxYu/hinJgi9qpD2yxYoM7pFadMOXPyknPzFITFydUw/qpzOcX9WMzzzcwLFIEBSSEuCd3cS/5bQ4pMv6oiDiHHUrZZsAQWZITucz1QB8u4eQ1Tbeg+gT3i7dU/04/sUUruLYWEvCLfdh27hJW7zZCz/5VUN65K2oaBODY9r04sOkySnZrDYuEPWZYBEUKSEBxT3A35QZApHIDwK5UGrcGF2eHmYkhRLI3ePokye3hNJDjo5cXQozKwmXFFTy+tRlDauVGxL3V6PvXbrxPd4GmIFM9miUbqtSuqf2UgsibmDd6M97ZDcD6RWrbQQPp0yXo1GYKPBosxMrupb95cCDObgYTQxFkb54izU2UggFKVq0Ic7Ecfr5vUh8MxdyF+4MYiHLao37V9DxCJClZcDA+KU49KVNBNUWz9G4n81bD4FpSguCTK7HuxB6cztoOHYukNoj/dpKcuWCuR/hw6SQ0h547LioSfboYokiRApBQHJ7cvZfiLqkUGYVoITXmsCulmpIO6Y5LMSxauaJ1XsKLfdtw7tJq7Dbqif5VysO5a00YBBzD9r0HsOlySXRrbfEdErYxqk88hZPjy+Hzudno2b0fhk2/hNKrb+PEn2W1dohpEluglWtr5KUX2LftHC6t3g2jnv1RpbwzutY0QMCx7dh7YBMul+yG1mrBrHteN0SJwftw59493FP7uXNwmOrNqZAFI/iTHBKLMqiQyi0SMzo+vk9b/j8gfYolndpgikcDLFzZHaXT2BHygEMY/XcsJpyci/omn3Bh6jCs89ThIKlxdUw8dRLjy33Gudk90b3fMEy/VBqrb5/An2UTIyGj+xfNJMiZyxx69AGXTl6D5uZyMf7grTZfNa74YbKjcZ+usBP549DmfTix/TqKd22h9k2vFE+XdEKbKR5osHAluqfVCL7Wdx7rZShhWfNYCO0y4ib+vaDh+gR5EF68Clb9kg4ZNbZMFz1Y2+aHnuIxLV6v4bNrFi5VHgfXtG5hm0Dob3LlFMWfDp+yCM38MZhCwqNZslWpjZraB7a4OW80Nr+zw4D1i5L0hUnJEBIaBpGZher330cmpZ6E0zGE/5eTUMqkJe13GFRuj9Z2+pD7ncHhZMlC/l4YwHgRrFp3RSNVrko4vStWy9fZyRuu4nRA5VTFjylq1CgDfbkvdk5dAHfl0wVUYuG5Yyw2vsyt+v1rGKOhawcUFvlgz+D+uFRlCDpZiSGx7YiujsYIOT4WI+7Zw7Wh2jdbBpXRvrWdsEx+OHM4WSclfy8kDy+QVWt0TdgAWmVFdfuKyIIIXNmxC0n66oR9RYpjwgpSPF6/EAfj70MvhnkFFyw7cxDDS0nw6dljeKlOW4j9+ApPXgcrTwFKi+J60KuPU78eNPIpNvV0xvKwtlhzYAGa5Eyt2QrLuHsrroWKkDtvPuirplJ0dHyxIU/9vKB4KVpf1uqwrygkpIgr2LEr4RbySnJh2yiQPMVffWHcuDe6FBHD98wh3Ej5xdsXMbeO47y/HFkr10aNr85/cgRdvIzHsEU757qqaZp8xXYS2tzgv5rBPPYOlvTdDJP27ZE/zQyScMprrJYzSZJ/jipXJPyY1kCNMkKc++7E1AXuyseVJIj1xI6xG/Eyt9o1sckkrIcynhMYoHL71rDTFzqlM4eTFQRyvBcKUy+yQuuujVTT0uFr4tK4IVw7FIbIZw8G97+EKkM6wUosgW3HrnA0DsHxsSNwz94V6uGfSLVeX9Ou48ngs38MVurNxrXrp3Bo+1osXz4PQxyttFx/qCbhdK3Y2PhThpMzbuiKDoVF8NkzGP0vVcGQTlYQS2zRsasjjEOOY+yIe7B3bShkv0TpzetfQx50EZcfA7btnFFXa5x9h/j4xrb81dJuGirf2pYUdJ/HF2m8Vfp4N7ZeC4Uod17kS9wRiFbuiKR/LsTd3pFzETVgNjrUHIBlU+oiR+i/mPznpi/XXGsl88H+MSuhN/sarp86hO1rl2P5vCFwtFKPhG/vX75I462mNWqgjJCjfHdOxYKkgw6huezA2I0vkXpz+YpxhRrl4qlv37RyecpVSjqOSp1BlZ7oUc0AoSfGY+jdauheT+0aH+lj7N56DaGi3Mib2AgQrWwEOjU3ieLCReFvoiLCEtuvLATB8c+hE9Yzvn1841gvoT0KC5R8kXT7/NQkj7occKhXBVkpAPumTMHZJN8ChOG/ZTOw31918CTVXK1a0oSNmEFjS+05QrOs1tawFApF//vrMOV4MYzpW0y5zLoQ54attTGC3r7TOO7MqDGYPPgprlzxSPEYpZQU14NexeNUrweNxNNNPeG8PAxt1xzAgiY5UynIZPDzC4LEupDq90Qx733wJvSrzxn+4TKnCI0Lwvv452sRgvz9kjROWXQkYoS2L5Oqb8QYfPokhArFIUbxoiaG1TB6YT+U1PfGjtnr4PHl1IlwuK9aC7fcXbFwejPVKTRi5LGyhL5IiqfXr+G9NBi39h3HMykhIiJKeJ0Q/vmz2nLJlKfCIEp4XZEZJCje40+0ySdG+I3paFq3G6as2o5d21djWq/6cNpbCoO6K48KyYWkGCssMoWH4XM6otCwhgs6l5UgODAvOg2ug/j0q3hIbbcmMI/5jPytkt44QPgLVBu9EP1K6sN7x2ysS9wACHdfhbVuudF14XQ0U51DpH25JLDpPgJdbPQQdnEC2vTfivtBQmKPfYdzC9bjqpCEZf43cOjAWTxQPAs04jI2b3yceDpZFlvY5NWHZZXqKKboq0MOonfZ4ihjVxT15/2nfE9qPl/BRXfl9aC1k18PKg+H55nF6OHQDAvjeuHAxS1wKZ7WdzMiGCrOnRfFwX3bQhx56oMXbjsxe+lp+AsdRLTPCzz3fQwPf2G/yqIRqWx8SRJXzKdPQqImxMXEKNOzxAbdR3SBjV4YLk5og/5b70O5ic5hwfqrQouTwf/GIRw4+wAaH5eazQGT1/yJMn4bMHTsMbzTkC+k705j8uxjCIEeSteshVTrbHVCZ/nfzTdfll/+8RLmLb2MXN3nY4LaDYPkEZGIEjqZWGGdlIuYju30hRhWXcahT0kxQlENnVvpcK2GOA+sLPUhkj7F9WvvIQ2+hX3HnwkNMQLK0AvHZ/UGKVOeDiX01FCGXnH0+LMN8onDcWN6U9TtNgWrtu/C9tXT0Ku+E/aWGoTuWo+WkpBHFE8pI3wOTXqE1LDaaCzsVxL63jswe51HYnsOd8eqtW7I3XUhpicEj7DFIiIVp6zHCvlIfQdrmp6+uFQyRA2XzigrCUZg3k4YXEc5+BLna4duTcwR8zk/WiW5IVGCOISFCS2VIoU8pbZ2urZrheA9GNlvo1CA7sWyRcuwev1mbNu1D4eOX8R/3qEaO/QE4jxWsNQXQfr0Oq69lyL41j4cf6b2F4Y14NK5LCTBgcjbaTCUqyVGvnbd0MQ8Bp/zt/pyQ6Iv0pXXdSEM4v+7iTeJAYJL85bicq7umD/B4cuZF5kSHzq3ZblQYMUK+0jol8LU+yUt5FHCYFyxR4X9rb44MUKhJiyrPPxTkpxPwnRFXyCNjVOLiQxoS9rm8Y3LJzLMIrR9EeLct2HhkafweeGGnbOX4rQwWKRoYb8898VjD38hC8vgvXUIZoX1wzzFAQ8hlxYftBwTahvj48kJGLj6aXyhqE3wnpHot1EoQPcuw6Jlq7F+8zbs2ncIxy/+B+8vg7x0tItvXG9J8R74s00+iMNvYHrTuug2ZRW279qO1dN6ob7TXpQa1D3NZx2mf1yhFBcWhmghHiIjFOMgFW25XHiHbuOoNEiKoluvRsgRGwKrpt2S3nhQZAjlZnfHtoVH8FTYzm47Z2PpaX+h7osW2sRz+D72QHw4yiMQqbh8JjYGielagvxlSyG3JA4318/A7vs+8Lp3DIuGr8Idxd/IXuHm+ScIihTpPNbThIS4iO9xPoci9MuGU9D185ULrNu4WAJbl/HoVUwfMY+Wo3X1BugxZi5WrPwbo5zq40+v5uhXS9WXaM3VmmI2nX1YunKEdno2NrASE2LueqLQyCEok64zTw1QuUppRL18Bo1XhmXEGEwoyjc410DdutXRfnlap/h/xpWL7srrQWsnvx5UjnDPM1jcwwHNFsah14GL2OJSXEP/ru4Tnj0LgF3lyqrflWSeq9CqWCEUKiOMjz+qJZNfCX1P0ld0YukUGtqyGBkrrh4XPk5sXpE6jZhBG6++I+9zS6hvNXMSQ0R6VvVo+NLT5Bn9ko7P6kyljUUEkYSs6o+kjdfVb1GuTkrv/p1J7crmoQJVOtCwyVNpZI9m5NhmIh19nfQ+zLKAA9SzsCGJRHpkUrA+TTj7km7vmEAtCxmQSPh8fZtmNHbTNfKPeEpH5vagSopnMEJMZlV60fLLykdIhNxcSp1Km5Keal1EWfJTnYGb6G78A+5k9O7SahrZoihlVbwutqAafWbR+vOv0749dTwpeS5tQHbdD365FXy8sJPUp2QTWplwL/hkpO/+pZntylKeAlWow7DJNHVkD2rm2IYmHn2tun27bssV/nAj9aqSh7KIRSSSZCHj3JVo4M5l1CGXKRWp25XGrTpBT0Oi6NJfFalA0SrUduQi2rx7J60Y9Qc5tJpJFxJuZ/7xALlY6QvbFKRXcoxymgah52ZQx5ZNyKFEThJyo9AuSlH9ln/QH38oflpS82ZNqYGDPTXqNoHWXvBKfHafDmSBx2lYeVMSC/MV6ZtT6baz6KzXRfrLTlguoU1ZOEyms//9S0v6ViPFjVhFelZUb/hSOu0ZTS+Pz6LOpY3j24TEqj6N3Hhd9TiFcHq4sRdVyZNFmK/wWhZjyl1pIO1c1oFymRahul3H0aoTTylE824SyOjD1UXUpbwF5SrTnsYs2UwHTl+k80f/oQWjXalNu2G09aE3HR3Uhqakdjv7LwJpdSPFI1oKUwOnJlSvTV8aPqwHtahemZqM3E+vEmYh86fr/8wg10pmilthC9u5KvWas42u+cl02k4X1J41qhRDN0eXJpveJ4UtogsZBRzoSYUNhXalZ0IF60+gsy9v044JLamQgSLG9cmm2VjadM2fIp4eobk9KsXfSh1iM6rSazldjr/ffwjdXNqJSpvqxbcrYShCWfLXoYGb7n55tmRyMr9rtH3hcKpvJVHGd8EmNGrhejrloXYjc+k7+ndmOyqbpwBV6TCMJk8dST2aOVKbiUcpIX3I/K/TPzNcqZKZMh+YV+1Fc7Zdo7fvNE9PeDxB2nGZjNSTljawo+4Hkz4TJexkHyrZZCUlD3/p63O0bmZ3qmii/Pzc9gNp/t47FCRMT1e7jnlEazoUo+xC3CtymvqPSGJKZfvsJm9tCUwWQAd6FiZDIR70TApS/QnnKXlzkXoupQZ23SnpaoXRyT4lqcnKhEctJKd7Xk9N4OpG8Y9oKdzAiZrUa0N9hw+jHi2qU+UmI2l/QoBkenyk0ZZl7+jS6pHUomjW+NfFFjWoz6z1dF7LM+Cknv/SyrFNyVpP2H9iUyFm5tEe9yD6cHcvzelegXIoYkmSh+oOW0LHPcLJ69wKGl7fiiSKnJuzFg1cdID+u//vN7clv1da2uPLb1+++x/96fiw8kJeUOYL89JtadZZL7r4l53QdwjLYOFAk8/eoZNzu1Dp7PpUynUz3VbtF6nXvzS1ST4SBoEkMixETUfvpEdaOpOYR2uoQ7Hs8fs7aSwIn2Falvrs9o7vM3XqX26f/vb1VnQmITdpaafSZKqYj2JZRFkof52BtEk56NBBOscV0td0bt1M6h7/nFphWXLb08D5e+nOR8X7Uuby8wEf6U46x1Gp+nyEepRoQetSPIxTRoHHh1F5YX7xn2NemtrOOkteF/8iO33FmMWCHCafo0du/9AM10rxzx2F2Jyq9ppD266pPlfqRbt7lVZue2EeRnZtaf4Vb9rcKgflLtuUek9eQ+e9lHkh9bGeBjI/urZ94Zd9KNIvSE1GLaT1pzwSH52h0+dHpntcHP18Nw2tY01GEkUbEZHYqDC1mHyMvNRTpYZc7a8lZuN3tUCXPkzqnc7+JjURe6mTaRYqM9pNx7FFUnGPplFl8za0VevjXL51DBZKZ/8qR7lyF6JiLv9oHnuEnqMZHVtSE4cSlFNol4o2WKp+S9W49g9q2bwZNW3gQPaNutGEtRfIS9eBbdQx6mlVLNkztoV1fjyXamYT9nnONvTPl2cj/VpEiv8IQfaLi8VHz6fw/GyMwqWKaH0cijz8HTy845C/hA1M0jiCqF00Ap89hndEDtgULwxLo6+eUUrR/vCLsES+JIdgZAh6EwiTAvlSPVIS+9ETTz0/w7hwKRTRtgF0EB30HE+8Y2FRohSsjT7DP8gAefMkfqMmjYmByNAQshBvPH8ZBFHeEihRIHuSIz3yyCC889qBgcMJx/79SzU1k0lD4PX0DWBdCramyqWTBb/CQ7+ssCtpBaPkR7l0Fo2g50/gHWuBEqWsYfTZH0EGeaG2iVInD4f3rXO4eOclAsLFyGFpg7J16qNmYdNkR8vSEoQ1jQtgwMWKmPP4EvrrPcWL8JwoWdoaxulZt/RuJ/k7rP2jFV6Ou4YFtVI/dpdIjvB3HvCOy48SNibpXE810YF49tgbETlsULywJTIs9GI/wvOpJz4bF0apItoeg/F10hOX0f5+iLDMl/QIrCwIbwJNUCCfrts6nWJeYPf4+fBu8hdamLyHf+AHhIRHISY2Gp8DX+DSrtOwXHAbK+pr+XyhPb/z8EZc/hKw0ZhUo+HvFwHLfElPNZIFvUGgSQGkvlq65XVtgtY0RoEBF1FxzmNc6q+Hpy/CkbNkaVinJ0C+V3x8r7b825IixOsp3sAapWxVuVIWjFcP/ZDVriSsvj6hfxHzYjfGz/dGk79awOS9PwI/hCA8Kgax0Z8R+OISdp22xILbKxAfCt+tf9EsOvAZHntHIIdNcRS2NEpfDv2GcUVKGZTLtZIh8E0QzArk1ZiHpSFeUG52Wyg3uwzBrx7CL6sdSloZJT3zQCMpPvk+g5fQVxYtnlfYT3KEBn1EttwWGj7ve4z10vP56SMNeY2nvlLkKVYEubNo2BJp5mrNMmpsmSZ5IK7uvIocrdujnOYzxFMne4EF9erjv0GPsKtDKg9E+dYxmPQh5s54iP7TnFN97EpGij4/CGVHmmGn+0xUTnKbG6H9eN6Db5YSKGul6yD05/KbFKHs5/IJN6b3x96KK7G4xY+6nfnvTr0IdcNYu4wfDmgifTwLDYbqYc3ZMSieOR/Jvhd5EA73rY0xhqtwb2V9jTcF+7R9ACabL8HSZukbqv4M1ItQt7F232HAnBLHx69JHnQYfWuPgeGqe1hZX2MkYPuAyTBfshS/YCgw9n9ADv8dnVB3fxNcPNAT+TL4QFACedB2TNlcAlPGVML3fDJAohAccq2F9VWP49jAQpnSj2Wm77Sb2P+vWPy3diIOFZyAWVyAfj9fTv8nfN/DSBF4dnQVlmw4iMs3j2PakF3I398VmVTzsu8p7BQ273yFj17P8EbDxXLRXkcx380Wnev+iqPuxOtjvu9xVo6P30HYqc3Y+eojvJ690XDdaDS8js6Hm21n/JKhwNj/BTHydpqO/pGbsPxW0pvaZZxI3Nl8D/nalM+kAlRxYHMNlr9ywvRev18BqsDfhDL2K5I+wJQqVTD9UT70P/UUqxt+p1Mxog/C2coJOxS3gxPpw6r9Jlzf7Zzhz6tkP4DsNf7p7Ig++9/C0LoqHO1LoUCuHNCLCcbbF8/xwbIVpi4aDcc8v+LOluLBlCqoMv0R8vU/haerG2p//NO34Pj4Lche/4POjn2w/60hrKs6wr5UAeTKoYeY4Ld48fwDLFtNxaLRjvglQ4Gx/yMxT5aj89hQjNszCVUyOOlH3JyH0VfqYt7oaknu6v7dSD2wtMNIhI3di4lVlTeZ+t1IpgpU/2aM/QJkby5g9ezVcIuwgI2tBcKf38NL3xhYVCyO3Bl9eE7PGkXyRCKYrFCjywxsWNgBtgl3yGe/NrEZyrftjpalc8FQcefFDyGI1jdFfrvKaD5wGmYMaozCxopHfP9iZG9wYfVsrHaLgIWNLSzCn+PeS1/EWFRE8YwOEI6P34LYrDzadm+J0rkMFbf1xIeQaOib5odd5eYYOG0GBjUujF8xFBj7f6OXuwrqmp3ChNWfUKNxSZhk4IEjsXEp1HUsguyZkQvk73F20mhcb7gEsxp9j2eE/xz4m1DGGGOMMcbYb0CO4Ptu8LG2RwXzX7R8i3wCt0e5ULOa5W993SQXoYwxxhhjjDHGMg1f4cAYY4wxxhhjLNNwEcoYY4wxxhhjLNNwEcoYY4wxxhhjLNNwEcoYY4wxxhhjLNNwEcoYY4wxxhhjLNNwEcoYY4wxxhhjLNNwEcoYY4wxxhhjLNNwEcoYY4wxxhhjLNNwEcoYY4wxxhhjLNNwEcoYY4wxxhhjLNNwEcoYY4wxxhhjLNNwEcoYY4wxxhhjLNNwEcoYY4wxxhhjLNNwEcoYY4wxxhhjLNNwEcoYY4wxxhhjLNNwEcoYY4wxxhhjLNNwEcoYY4wxxhhjLNNwEcoYY4wxxhhjLNNwEcoYY4wxxhhjLNNwEcoYY4wxxhhjLNNwEcoYY4wxxhhjLNNwEcoYY4wxxhhjLNNwEcoYY4wxxhhjLNNwEcoYY4wxxhhjLNNwEcoYY4wxxhhjLNNwEcoYY4wxxhhjLNNwEcoYY4wxxhhjLNNwEcoYY4wxxhhjLNNwEcoYY4wxxhhjLNNwEcoYY4wxxhhjLNNwEcoYY4wxxhhjLNNwEcoYY4wxxhhjLNNwEcoYY4wxxhhjLNNwEcoYY4wxxhhjLNNwEcoYY4wxxhhjLNNwEcoYY4wxxhhjLNNwEcoYY4wxxhhjLNNwEcoYY4wxxhhjLNNwEcoYY4wxxhhjLNNwEcoYY4wxxhhjLNNwEcoYY4wxxhhjLNOISKD6N2PsB5K990VANmtYGakm/GpiA+AbbA7rPAaqCez/WaTXLVx7HgIZRDC2rYaaxUx/66OeGRO/sQjwDYa5dR5oiiJ5yDNcu+2NCKHXlpgVQ61qtsimeo39giK9cOvac4TIhMGYsS2q1SwG058hSGTv4RuQDda/bGf0rWR47xsAC2sr1e/fx7fmjNgAXwSbW0N7l5t6PlFIdR7yEDy7dhveyoSDYrWqwZYTDstA/E0oYz+ByEdr0X/0QQSofv/ZyKM/wvvJbVw+fxG3XnwUurZEskBfvItU/OsTLkzvjwU3P8VPZ//PZHi7ZwR6TFyLrVu34/CdIPzORzszMn4/XZiO/gtuCtGUEgW649D2rdi6diJ6jNiDt0Lxwn5dsrd7MKLHRKzduhXbD99B0M8QJJGPsLb/aBz8WTuj7y4Sj9b2x2hdN4A8Gh+9n+D25fO4eOsFPibtHOGr7BxTyJCc8ekCpvdfgNS63NTySbzU5kGBcD+0XcjhazGxxwjs4YTDMhh/E8p0F/Mapzcdgn9ZZ7jUsvz/PILx6Rxm9F0Gt6BQRMlFIJkU4qy5YOc0E6v7loGe6m0K0qfr0WfwZjyLkUBfQpCKrNBpyQ4MraD+LqEPCzyGIT1OotHmlWhlmXKrSj22YNj4PfAIeI/QaKETkGSDeZ5cMJLEv4qI4BDEZs2Hkvat0XNAZ1S1iH8hA0jhf3UjFi7fhjMvDFCiagWUsMkF0fvnePDGDO1nzEEns3MY2nYnqp/YiW5mwp+EuWGC8waUWLoRzjYZtRxfKwZus9ph5F5PhMQaIodJFkiEdYoMDYM0qwly6MsRFR6GaKmQAsVZkN3UAMjfAzv2DEKxH73ovzwZXsyth/56m3F2ZCFhuwOx1+fB6c9NuPPyHUKsh+HKf7NQOWkoZB6pB7YMG489HgF4HxotLK0E2czzIJcyqCCNCBbaTFbkK2mP1j0HoHNVi/h10CSt+E2/MLhNcMaGEkux0dlG4+fKXi9Awx5SrLkwFnaZ2VZj3DCr3Ujs9RRyjmEOmGQRPlwaidAwKbKa5IC+PArhYdFQhlR2KENqB/YMKqZ1+/0/k72Yi3r99bD57EgUUmyg2OuY5/QnNt15iXch1hh25T/MyswgkQfi2JAeONloM1a20tLHy0Pw35HbMG7ZGMV+VPwmIYXHlmEYv8cDAe9DoewizZEnl5GyzUkjEBwSi6z5SsK+dU8M6FwV2rtIOQKPDUGPk42weWUrpBbOUv+r2LhwObadeQGDElVRoYQNcone4/mDNzBrPwNzOpnh3NC22Fn9BHbGd46JMjJnhLlNgPOGEli60Rmau9y080ma85C9xoKGPSBdcwFjMzXh/O5i4HX6MLzLOsExX/J2EA2f85twJLw5BrUqqLbfhPZ+eBveVuyKhtZavwL/dSiKUMZ0Eb7biUyEukvP7i9yi1FN/D8VvL0dmYpFZNR4Fb2VqiZqIHu3khqaFaMuq6+RX5RqojpZAO3uWo16HgoimWqSNmG7FNtfQrYDz1GEalo8WRQFPDhI01raklG+hjT3Rqjqha8nC7lFK7qVo9xWdWjEjgf0Mdk6yvxP0J8tWlKbKqZkWHsBeaq9Hn51FNm3XJVk2g8Vdo6GOPSjk9HCcvutohYN59OrhPYbF0KebjtpWqfaVH/gn9TacSzd+D9v2xlDSs/nOJDjfE/hX2pkfrSmiRHplx5P7nGqaT9S2C5yMhGRxHYgnUsaVBQV8IAOTmtJtkb5qOHcG6QxqtIRv+kSfpVG2bekVVqCSOo5nxwd5tDzHxRjYeeGkEO/kxQtrLXfqhbUcP4rSgwpT3LbOY061a5PA/9sTY5jb3x5jSUlfT6HHBznJ8uVwjZd04SM9EvT+EwNEhkF7O5K1XoeoqDkjTkmjIJ8HtPV/UvozyaFKZthI1oTpHrtpxFGu5xMSCSxpYFJg1noIgPowcFp1NLWiPI1nEvaukhZwG7qWq0nHUqxAdTIQujWim5ULrcV1Rmxgx6k7BzpxJ8tqGWbKmRqWJsWJI/hDM8Z4XR1lD21XJUs16pLI5+kOQ+pJ813dKA5Pyrh/I6kPnR0XFcasPGRsPXVRZPPheU0wLEgZRPpU7mJdyl5FpB9vEpznbvRgpufVVN+XRlx2Jb9n8hS3Qku9WuhuXNLlPwNDsB8i+zFiqGAhBAXKwVEqokpyOF//i7MJu7Dpv41kTeLarKa8MtzMM+vHUa1tEjjm+VY3Lt1HxEiC9RtWiPpdWDiLLAs2waT9x3BRNsbmOQ8BqdCVa99Ban3AQyp1xhj79XA2hvnsKBLWZgnO/gpztMMU3ub49bdcBSuaY/8aq8b1RyOnnorMOlAoLAFfgJZ8yGPQTjCZMIeeR+IKKvCsEpov3qmKFSrMybvOoJJxpdxPoBPN/quxGbIl9dY9cuPF3vvFu5HiGBRtylqJA0qZLEsizaT9+HIRFvcmOSMMRqCSvf4TSejmhjeUw8rJh1A4PcIIukDbFl8DH5fOe+s+fLAIDwMMiHC3wdGwaqw1ZdrzvRMC6FW58nYdWQSjC+fB4dUeolhli8vMj1Kwi9jzjw/tBvVEhbJGnPIxWUYN3ML3MJsUdgkCjGk+AJD9eLPIvYebt2PgMiiLpomDWahi7RE2TaTse/IRNjemATnMaegIZpxec48+LUbhZbJN0ACqTcODKmHxmPvocbaGzi3oAvKpuwc0Wxqb5jfuovwwjVhr945CjI+Zxih5vCe0FsxCQe0JYs084kO82AZR+6P43+6YJPlOCzuWVrY+gnk8LtxDLdjS6NSPsTHmSZic3uMWd4bH6e5YNnDaNXUX1OG9pvs9yYp6ISlZ91weFJdJD255P+Pnq0NrCQiyN95w1uoQzWRBx7G7DMlMXloGRiqpiUhD8DeJQeRv2u3tE+pk73G1evekBlVhUOyDvYLwzLo268hsnntwJJdb76uAAy5hIntXbHWvy6WHl2B1gW0n29lUrchqme3QDX7cklveiDOi7bdKsFt0Xo81bJtfhghqYvEakcNZD44ve8q3svNUGf0UDTILtZ+TIFliJ9n+8rw+up1eMuMUNUh2YGdLwxRpm8/NMzmhR1LduGNelClJ37TTYy8bbuhktsirP8eQRT7EMc2X8TrDJg1CXs0aUidxr6r7yE3q4PRQxsgu/qLTDeZvsnkCNi7BAfzd0U3DY3ZrPF4bFg3H2NdG6PYT3HnpJRkr6/iurcMRlUdkh1QSmRYpi/6NcwGrx1LsCtJMCvCeS+WHMyPrt3stJw6HoJLE9vDda0/6i49ihWtCyS5/CYJk7poWD07LKrZo5x65/idcoY4b1t0q+SGReufQnNIp51P0p4HyxgyeG7og6FPW2He4FLJxoZi5KvRHu0bO6BpNeVlLFqZOmDCGGts7D4OF37h23BwEcrY1zC2hnUuMWT+3vBRvxHBF8E4PXcf8g0fhFJaeiqZ715sv14KLZrnTjMQ5R+uwu2JFHpl7VHbVDVRA+NidrASR+D2pRuIUk3Tmfw9Dg3vjoX3DNF81jK42qbRS2axhGXeqqhdLeVXvCb1mqOG137sfvCTd2dhl7F+3nF4KhbTrDnGze+M4v/n3/L/35B/wFW3J5DqlYV96kEFOysxIm5fwg21oEpP/H4Vk3poXsML+3c/+KUGhWGX12Pecc/4ZTZrPg7zOxfXemdO9pOQ+WLv9uso1aI5cv+So0I5Plx1wxOpHsra14b2aDZGMTsriCNu45J6MAuFge/e7bheqgWaa9wAcrw/NBzdF96DYfNZWOZqm3qBgCywtMyLqrWrCf9K9P1yhgnqNa8Br/27obXLTTOf6DAP9s3kb/7BXxPuoObAHqkeiBCJ0j4SZWTfH52ybsDQmW7QfPurn98vmW6Y7mReF7BpxQLMmjIWo5acx0d5LN5d3YJ5Uydi7NgZWHfutarxSuF/fTsWzZyMcWOnYuVxD4TFT1eSB97CnlWLMGfqeIyecxQ+qlOsUp//NKw+9RzhyrdqIIPXhU1YsWAWpowdhSXnP0Ie+w5Xt8zD1IljMXbGOpx7rQotqT+ub1+EmZPHYezUlTjuob50CaQIct+JBTNmYuYU4fMn/o29D5OedCN7cwOHDhzG0ePHcezIIezfdw4e8QsYiReXDuDgkWM4fuwwDuw/i8ehqXyXqGcDG2FgStFv4a3hjnGfLszD1hxDMbySxu9A4wVfPIt7NjVQUyhm0xJ1/SruRElQpGZtFEit95NKha1KiHwfgOB0fhUacW0eJu58C1HJPpjgXECH5KCPXA5NUMdc9au67DVRo5QnLl30VU34Gcnx7vAhXItSnfMitkAVh3JCV8x+jAh4nt+CBdMmY/LkCZg0cwUO3HsvtOeUpAG3sW/FbEwaPRqTlh/H87BoeJ1ahinjB6FLt/m4oT3pJIq6jqt3oiApUhO1Uw8qSIWFoMj3CFALKl3iVx5yH7um9UGb+rVh79gC3UavwRW/WES/OIxpPZrB0bEZuo3fiYea0hmyo2aNUvC8dBG+v8oprfJ3OHzoGhJDqgocynFEZaQIz/PYsmCaECOTMWHSTKw4cA/vNbYPKQJu78OK2ZMwevQkLD/+HGHRXji1bArGD+qCbvNvJPbNwRdx9p4NatTM9YsOCqNw/eodREmKoGbtAqkWiFJlMON9QLDa2ULBuHj2Hmxq1ITGcI64hnkTd+KtqCT6THBGAR02kn4uBzRJ1jnq2ufH+pzBkuFd0axBc3SbsA0PEoYxMY+xxsUJf99OeeQ7e80aKOV5CRe1Jou080na82DfJhZ31y7F6bhawr7NgLwotPfmje3wYsNc7HiXzgHfT+LXzDcsXcTyj3DbtABLD97A1fWTsd63HHqPn4nJzjlwoGsttF1+B7fWjceqV8WFQdJ0THG1xOk+9mi1+EmSI2YiYT7XtszHkp238F7tXHXt8zfFYZdaaL3smcaBpJIY8o9u2LRgKQ7euIr1k9fDt1xvjBeKYeccB9C1Vlssv3ML68avwqvi3TB6+hS4Wp5GH/tWWPxEfelk8N3ZH71350DncRMxcdpMjGtviK2tKqP18nuJR4mEIjk88AmOzHBB6zYdMGqn0DHHLxwhwn0V+rZti57Td+Hq0wBEajkfP57ECjb5swjb5B28k5+PK3RYC9YC/UZqO8VPIQb/Xb8HPbtSKJTmHQZjce/qTYQgF6rXLpvqtwoxvr4IlIkgMsyCLOmJbnkQDi7ehGdSfVTu6opKunx1YVgH09f0V97VMTlxbpQukQtPbt5UTfh5UHQofB5fxs5ZLui4zh95jDkN/nAxz/CPSx1022uIZn9NxfTpszCxR0l4jG+IJtOv4KNa/xp2YzYaVe+Pi1adMeHv6eiZ5zDaFy6B4c8bYMyohjB54Y7HQWkPomLvXcXNECBX9doom3pQwTdQBpHIEFm+BFXa8Rv7/B90c+iGfQZ/YObeMzg6tyJeLBuIhva1UbvZDLxxmIIVwwvj/jIXNB9+XPVX6sTIXboEcj25iZs/9WFuQnSoDx5f3olZLh2xzj8POKS+hxg8+8cFdbrthWGzvzB1+nTMmtgDJT3Go2GT6biiHiQIw43ZjVC9/0VYdZ6Av6f3RJ7D7VG4xHA8bzAGoxqa4IX7YySEScx/13FPzw6l0u6Mfk6x93BVGcyonXoww9c3EDKRCIZZsiQOgGP+w/V7erArVUjDKbZyBB1cjE3PpNCv3BWuunWOqDN9Dfon6Rx16/NlXlvhXLsl/lqyE6fOn8T22S6oUbEJhv29GJM7O2Hux/poVTHlMohzl0aJXE9wU2uySDufpD0P9k1i72LfwaegohVQPkMu+hbabMWyMPt8AbsOvlFN+7VwV/Gbk9jWg+vQKejtkAPkdRSXcgzB5K4VkFPIYdlKu6BrzXCcm9MLGwwGYWr3yrAQpmcRij1nBznc/tmDx6r6SmxZDR0GT0KfOklPdElz/rVicGXrHi3XBkpgW88VQ6f0hkMOgtfRS8gxZDK6VsgpFFrZUNqlK2qGn8OcXhtgMGgqule2EKZnQfFuznCQu+GfPY8Ti2ShGDy0fhuOr5qNbS+VPatJ+cGY3ycnTo0fj22qO3BICgoD3YETsP7kTgwqaYDwKEL2rIpXssKqYCFUG7QPt6/twZLJ3VDVLLXwMIB1wbyQyD/A1+ezappCNO4sWo5w17FwzK6apIk8GJ5eIbDIn1/7dSUJZK9x5Zo3ZNmqoHZN7WWtolj1uP8E4SSBdfES6ftG7/N5HL34CXK90mjcvHAapxrpQg/5C+RBrI+n6vdUyD/iQL9ysC1oDWvrdPwUtEPDuXeSHChJGyHs6mL06tEXw+ZeR36XLij///o8dsXg6sH9L2c16EweiEcP3qRzu6cmAm5TOmLIgyZYtrwzSmZXxp2hVT2M3zAYhku6oP9O1TXO0kdYOmwGbpboj6mtbIVskAW2bUfDuYgfzh05A78crbH61l700XhkRJ0Mr69cg7csG6rUrpnKwSIhqjzu40k4QWJdHCUSgiqt+JU+wPweExHc/xD2jmuJUjmzwbxkMeQX8mKs138IrDcTS7sZYs/ktXgcIUPo+w+qP0xKL38B5In1gefP/M0EheHq4l7o0XcY5l7PD5cu5dVutPF7kAc9wP10BYocgY8e4E3GBQki3Kag45AHaLJsOTqXzK4cvBlaod74DRhsuARd+u/8cs2y9NFSDJtxEyX6T0Ur2yxCp26LtqOdUcTvHI6c8UOO1qtxa28f1QFEOYI9vRBikR/5f9EaVPb6Cq55y5CtSm2k3kV64P6TcJDEGsW/BLMinD3hFWKB/Bo3wGecP3oRn+R6KN24OQp/beeoU58fg4vzp+KyqSPade0GF9de6DNwCAa0K4RX6ydi1YdO2L6tv+ZH4+jlR4E8sfDx1H72UZr5RId5sK8ne3cNNzxl0M9vnfoZbemgZ1sQ+SXRuOd2SzXl18JF6P8JiUQijBWsUbWZldpOzwIzUyFjfy6Imn+oP4dIH+ZmQgX1ISDFnQ0V89Ek1fm/D/xyxFUzifD3QnFgXRXNrNSaZBYzKBevJv4oqPa5+uZQLl5A4jes4tyo1bodGjRvjhp5E94rFLnFi8I45gWevIhTTVMS52yMv7dNQolb49Ft+jWEvPgHUy/bY9ni1rBJeZBRAz3Y2gjrSnK88/H+MiCPfbQcC/07YFzjNG7dJA9A4AeCiZlZmgWfrteDQvZGKFZfQSaxQoMWVdJ1HVbsc8VAWw6JRQVUscuIkYhEaEM5QO91eBS3OCfarX0ALx9f+Pqm48fnBc6OrZx2EZ+ECDkaTsM59+fw994N+zOLsO+neEJ8ZpPi9e7RmHIlDjnTaoDJiU0hdp+LIWseIiPuyyf334W5azyQt37TFN9IivM2R9OKH3Bkzkq4K85Ai7oL90exMLbMgxwJqUKSHwWtDBF17xbuxaimpUXX60GFDPNGKFZfySSwatACVRKWL434lXqcwbWsvTGlV5Ev7TP2wX94rDhPVchVDf+oAyNxAdRq2RA1HV3x91Qn1buSkpibIQe9R0BABlYzGU2UAw2nnYP7c39477bHmUX78DuFlPT1boyecgVx6QoUMUzF7pg7ZA0y5OaVcn/smrsGHnnro2nKIEHzphXx4cgcrIwPEkWYuONRrDEs8+T40h9L8heElWEU7t26J5Q66uQICPwAMjGDWXpzwU9B1+tBFV2kUKy+kkFi1QAtvgSzIpwD8YFMYKZpA8Q+jy9c5RILVKhil87+Ro1Ofb4hHOa448WdM9i3fSu2bN6AdYsGoWrYHfiUmImTx6bAXtvQQiKMi3IQ3gvjIm3SzCc6zIN9PZkwbvGTi2CUw0QYZWcMcc5cMBURIgPeqqb8WtRG/Ox3JzbPm+IxIYqLn0WmlsiT7NB1/EXRcjlk6RhMaJs/ZDIdvjURwzxvXqFsVScsm/D3psKAM+niKaYrFk9x9WOCLKg8bCf+3T8OlT7dxKHVMzFh/CTMPPQMsSRFnIYFyFJhFP5Z3AD+Czqi9ogXaDujWzqOcgrLW9BaGGjI8NbbB/Fdv+w51s57gZYTWqd9cwd5FKKEwYmBgUGaN0KMuqG8HrRwLQdYp7J8spf7cNA9DvqlusLVPtmOSAOFhuKzYnyc3xa2GnvZCFyZ2wWtW7VEg2qlULRoURQpVhGOf/TFhiSnRSfKmsVQ6MB/3tuH6+WsggELh6F6eqr130TE9ekYcqYiJg2q8hWPgjBEqd4z0fLxKIw4/lH5DeU3iHY7j2ufgZy5LVIOzsQmsLTICunLy7joJRM+ujAKW4sR+fGD0CIThCP0cywk1oVhq+u+jLqhvB60cC04pB5U2HfQHXH6pdDV1T4xP6URv3plRuPk+Smo/uUPZPByuwEvIVRExtVQR/F1jTgnGs84gWsXNmFABS3fHWbNImztWERHf01V9xGHBlZGsWJ2sLNL9lNuDM6+2IIupTW8Vqw0mv3931d8062HnFUGYOGw6uk6APZTi7iO6UPOoOKkQaiSzkAxLNUbM1s+xqgRx5OcTv5Vot1wXhkksEgZJDCxtEBW6UtcvugVP8WwcGFYiyPx8UNilCBcyPGxElgXtk22f+SIUjZmGKTVGX0N2Wts7FJeczvU8lOsRG1MuKTrEaUo3Ii/HrQwajlYp1LgyfBy30G4x+mjVFdXqHeR8qgoRAtbxUDTBqBQIb/Ed46w1dw5IuLKXHRp3QotG1RDKaFvLFqkGCo6/oG+G9QuadKxzzcwyQkT1Q6K9T6K0Y3+wLIs43Bs/3BUTfX0pqxQdrmp9Llp5hMd5sG+mvzTJ4QJRai+ftrjPl2JhR2maLb0KUQ15dfCRej/E6Fy03y3fKGoU/0rqXQOfLTMn+L/lzaRSMvjMRQVpybJZhrtsRND6xVHpT77ESoUYmNnzsDE9qWEtKqNBLbOU9Gn9Ac8/88DPiHpW189m4KwksgR8cYHgUKh7bV5Dv5zHI+O6t/maiM2hKHQ0Uil0jS2TSzuXbkVfz1ojVSvBw3H5RUb4C61Qqcpf6Ky0JGkh8jMHKaKzWwgLJdyUjJGcBi7E4ePHMPefoXg5+kNNF6EU0fXobeW2//GKSp/Idn+zCQF6sGpdVlYJoxc5P64fu6ehmfI/UakD7Fk0l00mdQR+b66BzBDk/Fd8X7uLFz5xsuHokND429kI5Foakdi6OlLIKJPCA4RilCDmhg9qxNy3diFHc+U3/pE3NuAXfcKovu0waio49cUsfeu4JbiErIaqV8PGn55BTa4S2HVaQr+VA8qneM3QTDc3B4JA1IRDCo4wCG1r2vUxcUJf6MvhKWWHJiqnGiz6jaePn2a8ufuHDQo6oLt9zW89vQBTo6u9JXf+EhQoJ4TWpe1/FIMyP2v49y9XzGipHi4ZBLuNpmEjl8ZKGZNxqPr+7mY9e1BglBlkGjcL2I9fUhEhE/ByoGoQc3RmNUpF27s2gFlmETg3oZduFewO6YNrphsHmIYKhszpOnrAnUjKYReO+9qaGep/Dy+ill1dezEYu/hijKYU78eNPwyVmxwh9SqE6b8WTlJPyc2FAbywv6WatoAIjOYKztHYTspJyVn5DAWOw8fwbG9/VDIzxPeaIxFp45iXe9Sids6XTlDBr8zk9C0yUx86nsIZ5e00eEAW1z8wXZ9oQ/XKs18osM82FcT5cgOIyFOpdI4HfuNtMmFHRbfbLP+mhdBcBHKfgvy94cxqFkPbJcMxpHjC9DDwRaqS8sSRQYh8JP6Ielo3F+xDJ9HHMDkQpcxsvsc3EnHWEHP2hb59RTPCvXCa59dmHWpMsaleet2FbEFcuUU4fOn0NSTUfzzQb3SvB408uY8jN78DnYD1mNR6/Q/BNugZFVUNBdD7ueLN6meOh2Du+4PECPKCfv6VZN9c61OhpDQMKH/tlD9ngr5Rxwb3RgOte1hb5+On9qO6LzsvtCpfgO9cug/uSsSnkYjfbQGf806h4+pboNfW+TZldht3gld0rxuMnXifO3gUvwsVhx4/03fhhpZW8d/uxMeFqYhFuIQFhYF0reCjbViOEcID7SEy5Iu+LhiCIaOGIGxmyLgfPgK1rbJq2O7Vz4f1Cut60Ejb2Le6M14ZzcA6xe1TvoA/zTjNxzPT2/BxmNPlHcZj1R+80rCkLRITXvk/zIvGXxOLsW6Kx9VvyclCwlFmDAItsj1tftKHF/c6+kl+5GIoTjLRJx8evxr39Yu9Mr1x+SuCXlQikdr/sKsc5rX76cWeRYrd5ujU5c0nteXGnE+tHMpjrMrDuD9twUJrJVBgjANDS5OiJ0o0oeVjbVyAoUj0NIFS7p8xIohQzFixFhsinDG4Str0SZv8igRC+0rJ0SfPyE01c7oW2hph1p+0tME458P6pXW9aCRuDlvNDa/s8OA9YvQOkkwK8I5F3KKPuOTpg1gUBJVK5pDLPeDb+qdI2LuuuNBjAg57eujavLOUdc+X8gY/61wQuNxvui67wLWdi2RmKNCrmDphC14pKnTk4UgNEwEM2FdtEkzn+gwD/b19CzzIJdY6MNCPwk9W8YgIfYjSQSD3HlVU34tuvXZjP3kQo5uwG7fbGjQq0eS5zzGfPr05S63sXeXYN7hhJsIyfHx7EysjOuHGZ2bY9w/8+Hweja6jTyl+2AhqzAwsBQKN//7WDflOIqN6Ytiunae4tywtTZG0Nt3qRZRiutBrz5O/XrQyKeb0NN5OcLarsGBBU2QM0VUyxH89AqueKjfkj4Z48bo3aUIxL5ncOiG2ilcycXcwvHz/pBnrYzaNbSXoEJvBj+/IEisC6l+T4U4JxqNXY/Nmzdh06Z0/GzeiMU9y6T/GxvSPASQBZzBuD7L4GNTHFbx+zECHvunoFvzBqhftyZqt+iP5SdPY9WgtmjSoB6a9V4Nd42P1tCV0Aav/YP5U8Zg2r5nCPW6gO3rVmHRtOlYddlf2ILfQwyuHbmAPHUckeLSoggP7J/SDc0b1EfdmrXRov9ynDy9CoPaNkGDes3Qe7V7ksc2Kb4dt69fAneOnUs2PX0M7TuilQ3g9fA+UpxQFHMfd5/EwcTRCS3yKBp2NG66vYRlPRdMW7EWyxYuxPLls9CnZuI3b2lSXA969XHq14NGPsWmns5YHtYWaw4sQJPkQZVG/AYfGADHFj3Qp/0gbPCWI+bOBVxTnJMpNkbZiiUT2+ynfzFryFLcidD8zYPMzw9BEmsUKpjuVp6pNIeUDAFnxqHPMh/YFLdSTRPE+uDkDGfUq1wOVVsOwbKTHggJu48lTi0w45by2+2vk7HxFHPtCC7kqQNHTdfgpWMdjISCpMSdYzj3bUGCjsogwf2UQYL7d58gzsQRTi3yKCdF34TbS0vUc5mGFWuXYeHC5Vg+qw9qfjnlQ50YuW2tYRz0Fu++6Yjej6C4HvQqHqd6PWgknm7qCeflYWi75gAWNMmZYuArzm0La+MgvNW4AYzRuHcXFBH74syhG2qXASQXg1vHz8NfnhWVa9dIeYBWlz5f/h4XJjZDh23WmLRxAmqKPHHnphsunTuB/Zvmom+Ljph6OxxGmr7IlPnBL0gC60IFVRNSSjOf6DCPJOQh8LhyGU+++Xzz/w+SQlVRUejH4vx8oeHJfkmkfqAikfTtWwTI9VCmenXVlF8LF6H/F+SIjZWC4mIRm6RlK6bHgaRxiEsynRATp5guTZYsle+H4v1Jck7q84dclvq1pXLh76SEuNjYpIGnmC4smFSxLKpJ8SgGcYrpwvIlkBgbCUk/Gh/fhwifqiJ9hQPu72EpjkaUUInKw2IhMlZUqDHwPTkRbUd/QLtBVeKvN9Ur3BNr5jdD8Ibe6L32SSodjZqEZ4XG3IVnoZEYUibN82XUGKByldKIevks1WcAfr5yEe7x14PWTnE9qDzcE2cW94BDs4WI63UAF7e4oLiGsazcbwOca9RF3ertsfyFtg/LBofJa/BnGT9sGDoWxzR1xtJ3OD15No4JgyC90jVRK2W1q+YTnj0LgF3lyqrfU2dobo3CRVJeG5TqT5FCyGOsQ+lB4YiQKR9ZIzY1hST4Y5KiSRb8EAfm9EKDlksQV6YsSpYsCX2h5XuscELbVYDrhpM4f34DGgduwtCWnbC/0DSs6meDVztGYNLOQNVcBLI3ODnTFU1qVkO9jmOxQ+PDH2Xw3rsDFxWX3ERcwopTxuje3gjHejeD05qPqOEyEH/9VRF3B3TGomTX2kb738OF22++rTiVeePOI6Bo8WTPA5R6YIVTW6yCKzacPI/zGxojcNNQtOy0H4WmrUI/m1fYMWISdgYmHWwYlVDc8v8OHutcO6hyQmwMYhNmZVQXkxb3RL7Ly7E0yQM+pXj1z9/YHVYP0+e5wDp+gfVhZ+ODuV0GY8aiJViydDlWrt2ALbtP4s47HU9j+HwFF92V14PWThlU8DyzGD0cmmFhXC8cuLgFLpqCKtX4FYqvZ8/xQa6P3A5/oH6et9i34iB8FZc9iHLA1Ew1AAx/hHV9huOa4wJMbaz5gsNPz54hwK4yKqd2p+0fgMIjIIt/xIUYpqYSBH9MElEIfngAc3o1QMslcShTtqQQUwm34YjBzemt0H6KEAN3H+P+pZ2Y29cBtrkbYIftn+indrMY2ZuTmOnaBDWr1UPHsTs0P0tVaM97d1xU3iArnfGUOiFOlYGi4bmRuq9DPKMS8Y+9uKN7kAhdXyziEIuYxCBB3UmL0TPfZSxfqvZ8T4H01T/4e3cY6k2fBxdlkAhhYgcbn7noMngGFi1ZgqXLV2Lthi3YffIONIWJQeUqKB31Es/SvAuzDJFRin46BlFRSXPBj/EZVy66K68HrZ38elA5wj3PYHEPBzRbGIdeBy5ii0txzZebGFRGldJRePnMV2N+zeYwGWv+LAO/DUMx9pimIlKKd6cnY7ayc0TNWikL3bT7/E+4pmhXS71hIr6MEQ4lULJMeVSpURuODVvAqdc4bHxeEpMWJtzVOJlPz/AswA6VU0kWaeYTHeaRSA6/Td1Qo64janRdp5rGUmVYGx3+KAh6+QAPUu2u5Pj4QfGNOQn9ZWzimDYFOQIfPsY7vXJo1qKwatovhthvLfrKPOrY3J7sLHJQjhx5qUz91tR79X0Kv7GInP+oSyVyK6bnoVKOrch12W0Kv7WUXITpJS0V03NTcYcW5Lz4JoWpvT97Disq37ANTTsbpvP8S9ZtSS5Lb1OMarmUounKvI7U3N6OLHII78tbhuq37k2r74fTjUXO9EfdEpRbMT1PKXJs5UrLbofTraUuwvSSZKmYnrs4ObRwpsU3hbnGedLeYY5UyKYm9V+8mw7tW0uzx0ymbQ9e0R5XO7Is3Zy69p1Px3eNpSZViwjzNaZsRvnJaasvyRSLEneH5tezIqOsRpTdxIrKCesxcNPT+KXULoL2djKlLGVGk1u4alI6xD2aRpXN29DWYNWEL0Lp3IyO1LKJA5XIqU8iiMm8VH1q+ccf9Ifip2Vzata0ATnYN6JuE9bSBa8o1d9pEXqW/iqXi3IXKkYu/4SqJmom+3CVFnUpTxa5ylD7MUto84HTdPH8UfpnwWhybdOOhm19SN5HB1GbKbeS7ctkoo5RT6tiNPxqqu/6zqLJbU5rsi8r7Fdja6pQqxbVqim0nSymZFOhhvDvKlSmcB7KoS8mkSgb5S9XgyrblaVBZ6OJpM9ojWt3Wv1UqprVRRpSSEKiHK1oy4doujm5EuWycqRZN4X3xgujCyOqUxXnWbT10BHa/ncfqlW0EvXZ7kFJ904Qbe09mA4LE2PurKWVF8Ip/KAzWebvTScjVG+Je0hTK2Yjh4VeyrapEPeOLo+uRgV6HEs2PzVhn4WlSEP0eRpUpCJNuhenmqAkfbaGXLuvpsTVHUKFJCLK0WoLfYi+SZMr5SIrx1n0ZXVVZG+XkmOujrQnYdm/kNLzOQ7kON9T+JdSjHpOEGKsrBBjgzZ7qF6X0ruzs6ijY0PqMnwWrd68juYMaUWOTYfRtsdJgyv01gxyyGVGVkWKUtEihci2oBXlzKZHIokx2TScQKf8vmy1JELPzaCOLZuQQ4mcpC8Cic1LUf2Wqpj6oyU1b9aUGjjYU6NuE2jtBS/t21lFe/wK28XvGI2sVZRKOrak+qVsqYLrRrpxcSE5lc9DOQvXptZtmlCVUhWpzeQT5J10V6iJomM9rajY8KspYk3qOZ8cHebQ84SNm14RW6ltmeGU7vCMdqM5re2prJURGVtXoFpCTNUsaUlZTG2oQg3h31XKUOE8OUhfLCJRtvxUrkZlsis7iBQhpSSlt7fOk7tvGMUIuynq1UEa4ViJ/vj7Gn1U321hF2hE9SrkPGsrHTqynf7uU4uKVupD2z2S7ZWgrdR78OH4fZWueEpTNJ0fVIQqTrpHKXePjuuQQPaWljrmoo4pg4Skz+eQg+N88kwMElrk/AfVLZFb6DdNyKpsfWo9aDN5qF6XvjtLszo6UsMuw2nW6s20bs4QauXYlIZte0zJooRuzXCgXGZWVKRoUSpSyJYKWuWkbHoikhjbUMMJpyhJmMQ9ommVzamNpsYsiBHGBT06OFG75jWoaC4TIX5NybpSY2rj1IE6TTqielcmCj1HMzq2pCYOJSinvoggNqdS9VuqYvkPatm8GTVt4ED2jbrRhLUXKK0uUtgA9GhaZTJvs5U0bwGB7ANdXdSFylvkojLtx9CSzQfo9MXzdPSfBTTatQ21G7aVHnofpUFtptAtLXGVWs4I+3cgFSvUltaq8l201wma1tqOsisu9hUZkmWVHrTaPST+NU2ijvUkq2KpxbT2fJJA6zyknjTf0YHmJEs4n8+Pooo5zans8NOqKSwt0meLqK7Q//U8pnnQ+PnRcVr/92Cqk1cYb0BE+gWb0ujFG+jA7cCU+UvmTxtamFKuNv8kjedfCBeh7LciC/ejJ7fd6Po9Lwr5MnqIo9CAIArP8CCVUcCVbbTvfppDf82kz2m+Q37qtEd7x5KR4h7MocnbdPksGYV5XadDm5bR37Nn04IVG2n/lVcUko4Bb9S5gVS0/ARy1zrA/rVIn8ygysJgx6DOIvLS1I5CdlHvzmvIS20bRb/cQwMqF6U6Yw+TZ/z4M4qe73QlB9d99DH+HQoxdOVPOzJTH/yE7qYOZlmp8ZqAJJ1OxC4nKqytCJW+pn+6DqTtaR0MiT5NfW0q0ZQHqe0YKT2ZUVko1AyozqLUB+6ygFXU0Lwd7dShCNVV9IeXdOf2Y/LTELDB//5FlSq40M5XybaCLIr83LfSgErCwN31CH1WTf6u0ozfaPro9Yxe+ocn2YZxob707Jk3BScr6FOIOkcDi5anCRqC6IcVoRnmMz3c0o/sK7Wimef8UrSRkF29qfMaL7Xp0fRyzwCqXLQOjT3sScpwek47XR3IdV9iNKUnnlIXTaf72lClKQ80FKEJUl+HL2QBtKqhObVLGSQpi1BdRX+gl3du02O/pG1LKZj+/asSVXDZSSnDxI/ctw6gSsIg2PWIepQI8TrfgfJ32kOZ0xv9fKTP55ND/k6UVncsC/Oi64c20bK/Z9PsBSto4/4r9ErXzjGVnCEL8aZX/imTQnSQJz33CU79oK/QK5wbWJTKT3DX3l5TySdKqcxDSxHKvkY03Z1Zk2zabaNA3ROSRnGPZ1NNq8a04hfeL1yEMvbDyMhvuxPZtd5I774xGaVNRoHbJtLcO9qHVBknmA66lKCmK9NfgPw8Yshj90jq3Hka/ftBSn6rG1FWkT6VHp/QQUvJ99RSWu+mHEzEPZxDY9f6pRwQfr5La7qVIQvz/GRrZUoWVYbTMfWdLfWgWVWNqPbC11+2Vej+rmSZ3ZGWvBKmRD2hHbNm0ZrNa2hO59KUX1GECgOCXeNG09I9W2mi6zDaJ8wv9NZMqmNRmfqvP06PQlK+/kXcbRpXzo6GXko2pInxoN0jO1Pnaf/SB6kfrW6UlUT6pWl8woBF6kunlq4n1ep+IX0+l2rZ9KFTKcZOX1+EahdKW1ubUqVpj7QOtMJ2tSezUmNIcXLE9/d94zf4oAuVaLpSY4HyzUVo9CWaPng9vcy4naO7z/dpvUs1qua8gm4lfHUo+0Bn546g9fEHR+Lo4ZyxtFbDof3Pd9dQtzIWZJ7flqxMLajK8GNJt31a8aQQ/ZR2DGlIpQsVpcrNe9Pk5Quot2MHWptkQ8fR7XHlyG7oJc2D/zTXQY1QeMytZUN9UgbJ1xehqQndSq1NK9G0R1qjhHa1N6NSY24mWTeZ33ZysmtNG79HY/4VyPxou5Mdtd74TkNhn1G+U84IPkguJZrSylQaUmr5JF5q8+AiNGPFvaSNTo406MSHr29rcc9oZavq5LLbOwP72MyX8rR1xlgmESNvp+noH7kJy2994y380xJ5B5vv5UOb8t//BifSx2uw/JUTpvf6hrtK/mjSB9g6Yyn2nLkD34h3OH7sNmJgiGKlS8TfVEbqvRujh22Fr77yAUB6JfphVGfLlNcBZa+Aflvv4eV/R7Hn9FN4316EFmqPe1DceMrtqTEKFVbdWEf6AlvXXkGhv2ajd2Hg1ZoxOGLZC31c+2FQ06LKB1zH+cFPVBbN27VBNclZHLwWDZNyVVHcpABqdG6O0llSvv6FXlGUKBQBP7+kz+CTPtiKGUv34MwdX0S8O45jt4XXDYuhdIn4tYX37tEYttUXqtX9Is7zFfxsS6JERj15O1VZYVeyIAL+u4V3Gq+pCsWdmx7IVrYiinz/Zi74jvErfYw1y1/BaXovzdd/fSvDOpi0vDeKZHKAyoPOY0Ljehh6ORsKS9wwp2tDODrUROXixdF6XSgs428brIcS/Uahs2XK4Un2Cv2w9d5L/Hd0D04/9cbtRS2SPGYo9XhSrmzsf0dwPKQk2rp0Q8Ncj7Bu2m4YDVuAXkk2tB6KliiECD8/Ie6T0m0d1MR54pWfLUpmTpAIYWKHkgUD8N+tdxqvb0ToHdz0yIayFYskuambOG8nTO8fiU3Lb+E790Y/J3FedJreH5GbluP7dcffI2dI8XjNcrxymp6sDatJM5/oMA+WcfSKoOfmhSi6awj+vq52HxNdSb1xYOQ43G+7BWs7Fvx1x1mClFmeMXWyj3h6ehNmjx6GwUMGYdDw6dhyI0BIWbF4cWA7Lqa4U18mivTA6X82YsOGDUl/Nm7GjoMX8ChQ14dd/0CS4hi4qCOez14I9+/W8UXg5vJ/IOrQDXbfO1tJPbByshvqLRqd7meV/lT0SqKVcx0UsY7D6T7tsNmkB/rUNcf12R3hLBR6Dp12w+bv/ZhcVbWSemYwT/FMoAQSmNhUQJXSeVM8DiTqxlXcNSqMyDPTsGTdIozpMR6PWh/AycnVYSQMBa9fforseU3iE7VEX0+ZsLNUQataUTi//yI8P0sV9wlLKtXXc6BOvVLwuHlXiOBEeiVbwblOEVjHnUafdpth0qMP6ppfx+yOzujc3AGddtvg7/2TkbC6SrF4eOUOLOrUhy6Pxv12Bqg2eQ8W2O5Dt3YjsebYDTzxCcJ7vxf47/x2zHBpiynve2HvivYa7hD9nXyX+JXCY+VkuNVbhNG/dBAlI/PB5j59carkLBzcNBTVsn/Ag6uXcPnafbzP3xXrji5DS3PljtMzM0/5iK0EEhPYVKiC0nlTPo8j9XhSMqg5Fjs3/olqsju4FFAby9wuY0mrAikGcjnq1EMpj5u4qx4o6ViHBLEPr+CORR3Uz5wgEVawGibvWQDbfd3QbuQaHLvxBD5B7+H34j+c3z4DLm2n4H2vvVjRPvnNcyQoPnAROj6fjYXfrzP6qUmKD8Sijs8xe6H79yvEMzhnSD1WYrJbPSwanfTZp4nSzidpz4NlOKMKGLZhOopf2YwzAekpQ6V4vHcvPnfdgDXdi/36+0v1jShjycSRz8np1K56dWo7/h+66vU5/rQBWZgnnZjVk3r2akV2JYbSxbSua/qe4gLJ4/pu6l9Sn7I7TqXT12/SzZs36drFE7Rr6XBqWqY0tZh1mT789GcXySjg5GhqP3gf+X6X8yriKCRYuf++K1kQ/TuuAw3a+2ufHqIuJtSP3n6IUm07GUV98CGvt8GUMc0+hq4OtyPTPzbTh7jP9M7bP9l1y9F0spcN1Zj1NH57RuxsT7auRyjs/lSq0WAhecmi6d9+xaj9jgjhrf9SvyItaUOIsLc1va5GFrCVnKoMofMpLlGLoVC/t/QhSrUQsij64ONFb7VdvBhzhybWaECLE05zTEJxOq492TUfRdNnzKLV595maPuLCXpMFw5spTWL59Ls+Sto464TdMtH0/VxmSEj41dGQf+Oow6D9pK3hnlJff6llbNm0PRRzcnO/htOx/0hlNfmqzc7WdQH8v+YEF/fKq14UorzOkBDaxajaj0X0p7jR+nQ7nU0qlEF6nU42bX9sgDa6lSFhiQJlPSuQwzdmViDGix+pTEnKk7HtbdrTqOmz6BZq8/R2wxtwDEU9PgCHdi6hhbPnU3zV2ykXSdukU8aN0eQBZyk0e0H077v0xn9/IT9fnJ0exq8z1c14XvImJwhC/qXxnUYRHs1JYt4qecThVTnIfWhf1fOohnTR1FzO3s+HZdlOJHiP6p6lDGVcLgvdEL71VkwcvdmDKmc7Olb8iBsdyqFPw1WwWuXE37o0wPC96GLjQsCJj/DuaHWSY7syt9tR4eqY6G38A52dsrzk3/tL0fwfTf4WNujQrIj6b+MyCdwe5QLNatpOC2VpSR7hjm1KuF42we4MrqIxlNqYh+vQsfOmyBq0BJVw85ghXdj7JiaHdM7bYJJZ1dUC9yCjWEDsGNjY1xzaoqjpf/CuLZRmNs12etbBqGKiWqmiMWDuW0xw3QZ9vT/2lOm5Qjc6YKuj/vjyOxaX75lSiRHyO3d2HLFDzKhNZhX6QTXOvl+43aRUfEbiSduj5CrZjVoOBsVsncXsWXPfwiRA5J8DnDtVBVmHGxKOsSTPPAQ+jaaio8Ojsj+9F+cuvYMwXo2qDdoETbMbo2Cyf4o9sFctJ1himV7+n/VadHywJ1w6foY/Y/MRq2UQQJ5yG3s3nIFfjJAbF4FnVzrJDm9+EeRB9+Hm481HCqYq6b8n5EH476bD8o7VFBN+B6+PWdEPnHDo1w1UU1TsoiXej5RSHUesne4uGUP/lMmHDi4dkJVTjgsA3ERypKR483OLqjZ1wOdT7nh79qaSkw5fJc2xwC9jTg26McOLGMuDkGJplfhfPMOpqe43jEC+zsXQPf30/H838EowLmT/Sykj7F93CQs2XsPkspt0XfcbPSqnOLx5kryCIR81oNJNuHPDAyheAqhNCwU0VlNYSyORHiUIYyNhBFyzCd8IhOYCLPR+Lq62OfYOHAeIoetwpAyWj43FbEvNmHg9GD0XzsSlTUMrhnLVLrGkywM7z/pw8Jc+ZosPARh+iYwNdTWOcTi+caBmBc5DKuGlEG6IiX2BTYNnI7g/msxkoOEMcZS4CKUJRVyFD3LtsdJ+214tKMjLLT0zSFnN+GMrQs6ZfadLZKQ4tG0aqiysSqOv1yNBilOjo/G8Z62aHutCy4+WohayZ4hztj/tUgP7FlzD6WHdkGp9NzIR+aLI8tPw9KlN6rzUXH224uEx541uFd6KLroHCgy+B5ZjtOWLuhd3YzPDGGMMQ24CGVq5Aja0hbFet9C60OvsLnlT370Vv4OKxsVxUSzjfDe1xlfzjZMIPfGYsdiGBM3HY+vjvn+N+VhjDHGGGOMpYkP0DE1Ujy79xjheuVRo3qyAlT+CT6P7uPREw88e/4MTx89wEPvUKFs/YHC3HDlLlDBwV7zdakhV3D1IaFY3Xrf5zEHjDHGGGOMsXTjIpSpIcTGxQHZzJEreVVHIXh99xYu7RyJhqXKotW047jnGyb8xY8Tc+cybkUWQ+3aeTU0ZBk8t2/Beb3GGNq3YpLnoTHGGGOMMcZ+HC5CmRpDlKtRCcaRb+Dtn+wx1xIbOLr0Q49KZoiWlEHXyWPg4pDy2WqZR4pnV24gwLIGasc/UD8pqecWjFjgjaaLl6GnDX8NyhhjjDHG2M+Ci1CWhIXTOAyv8BTr551GYPJzbeXvcHjXBXzKUxX2xX7wd4tyf1y5+hxZqzmgSpIbEsXi3YX56NhhHSzmnMAmZ9sfWCgzxhhjjDHGkuMbE7EU5IGXsfDP0dgRUAqtO9RHmdxA0CsPvPQJh2UpI9x6WgGbV7ZPeSOgTCGDz9F5WHDoPE7suoywck7oUDUXxCDERUch8lMIZFb10Gt4H9SzTnG7XMYYY4wxxtgPxkUo0yo68Anu3PdCqCQXbIoWQ9GCZuCyjjHGGGOMMfYtuAhljDHGGGOMMZZp+JpQxhhjjDHGGGOZhotQxhhjjDHGGGOZhotQxhhjjDHGGGOZhotQxhhjjDHGGGOZhotQxhhjjDHGGGOZhotQxhhjjDHGGGOZhotQxhhjjDHGGGOZhotQxhhjjDHGGGOZhotQxhhjjDHGGGOZhotQxhhjjDHGGGOZhotQxhhjjDHGGGOZhotQxhhjjDHGGGOZhotQxhhjjDHGGGOZhotQxhhjjDHGGGOZhotQxhhjjDHGGGOZhotQxhhjjDHGGGOZhotQxhhjjDHGGGOZhotQxhhjjDHGGGOZhotQxhhjjDHGGGOZhotQxhhjjDHGGGOZhotQxhhjjDHGGGOZBPgfI5K6rxifxEAAAAAASUVORK5CYII=)"
      ],
      "metadata": {
        "id": "2tTyt1PazI9k"
      }
    },
    {
      "cell_type": "markdown",
      "source": [
        "- After a series of arguments, which I am not writing here, we come to the conclusion that we have to deal with the various parts of the above equation in the above ways keeping in mind that the Discriminator has two possible classes: Fake (0) or Real(1)."
      ],
      "metadata": {
        "id": "ABLeMWgmzPmU"
      }
    },
    {
      "cell_type": "markdown",
      "source": [
        "Training Discriminator : \n",
        "- max log(D(real)) + log(1-D(G(z))) "
      ],
      "metadata": {
        "id": "gLxsARI4Qu7H"
      }
    },
    {
      "cell_type": "markdown",
      "source": [
        "Training Generator:\n",
        "- max log(D(G(z)))"
      ],
      "metadata": {
        "id": "RGiLkxKpQ4br"
      }
    },
    {
      "cell_type": "code",
      "source": [
        "# running through loop in a loop with inner loop taking care of the batches, \n",
        "# and outer loop taking care of the epochs\n",
        "\n",
        "\n",
        "for epoch in range(num_epochs): #looping through the epochs. in each epoch we do:\n",
        "  for batch_idx, (real, _) in enumerate(loader): # we are taking in loader object \n",
        "  # loader is an object of the DataLoader which gives us shuffled batches of dataset fed into it. \n",
        "                                            #and selecting batches from it at random\n",
        "                                            # for each batch index, we are running the following\n",
        "    # in the tuple above, we are naming the images as real\n",
        "    # the class is not given any value, because GANs are unsupervised and that is the\n",
        "    # task of the generator to decide which is real and which is not. \n",
        "    real = real.view(-1,784).to(device) # reshaping the images # basically flattenning it.\n",
        "    # in case of CNN we will not go for flattening\n",
        "    batch_size = real.shape[0] #checking the batch size #first dimension of the shape of vector\n",
        "\n",
        "    # TRAINING DISCRIMINATOR : max(log(D(real)) + log(1-D(D(z))))\n",
        "    # --> min(-(log(D(real)) + log(1-D(D(z)))))\n",
        "\n",
        "    # generating fake images with z = noise \n",
        "    # G(z) = gen(noise)\n",
        "    noise = torch.randn(batch_size, z_dim).to(device) # randomly generated matrix\n",
        "    fake = gen(noise) #creating fake images out of noise with Generator G\n",
        "\n",
        "    # putting fake images through Discriminator\n",
        "    # D(G(z))\n",
        "    disc_fake =  disc(fake).view(-1) \n",
        "\n",
        "    # lossD_fake = log(1-D(G(z))) \n",
        "    lossD_fake = criterion(disc_fake, torch.zeros_like(disc_fake))\n",
        "    # we are sending in zeros by torch.zeros_like\n",
        "\n",
        "    # REAL DATA (x)\n",
        "    # What the Discriminator outputs on the real image\n",
        "    # disc_real = D(real)\n",
        "    disc_real =  disc(real).view(-1) #view(-1) implies it is flattened\n",
        "\n",
        "    # lossD_real =  log(D(real))\n",
        "    lossD_real = criterion(disc_real, torch.ones_like(disc_real))\n",
        "    # torch.ones_like(disc_real)= we are sending in ones. Because in this case the\n",
        "    # data is real. So we are interested in output of the discriminator function as 1. \n",
        "\n",
        "    # Final loss function wrt Discriminator\n",
        "    lossD = (lossD_real + lossD_fake) / 2\n",
        "\n",
        "    disc.zero_grad()\n",
        "    lossD.backward(retain_graph = True) # wish to utilize the fake (G(z)) weight values\n",
        "    opt_disc.step()\n",
        "\n",
        "    # TRAINING GENERATOR: min  log(1-D(G(z)))\n",
        "    # the above expression leads to saturated gradients.\n",
        "    # So, we maximize log(D(g(z)))\n",
        "    # We will use the recalculations done previously\n",
        "\n",
        "    output = disc(fake).view(-1)\n",
        "    lossG = criterion(output, torch.ones_like(output))\n",
        "\n",
        "  \n",
        "    gen.zero_grad()\n",
        "    lossG.backward()\n",
        "    opt_gen.step()"
      ],
      "metadata": {
        "id": "LnUnq4ed3p9y"
      },
      "execution_count": 25,
      "outputs": []
    },
    {
      "cell_type": "markdown",
      "source": [
        "    # .view() Tensor.view(*shape) → Tensor\n",
        "    # Returns a new tensor with the same data as the self tensor but of a different shape."
      ],
      "metadata": {
        "id": "vC8vPBq62jAN"
      }
    },
    {
      "cell_type": "markdown",
      "source": [
        "# TENSORBOARD"
      ],
      "metadata": {
        "id": "9UNNV97PJQjI"
      }
    },
    {
      "cell_type": "markdown",
      "source": [
        "It won't run on Google Collab"
      ],
      "metadata": {
        "id": "f_0nnqaTJvv_"
      }
    },
    {
      "cell_type": "code",
      "source": [
        "from torch.utils.tensorboard import SummaryWriter  # to print to tensorboard"
      ],
      "metadata": {
        "id": "NWBpirdD1uDK"
      },
      "execution_count": 26,
      "outputs": []
    },
    {
      "cell_type": "code",
      "source": [
        "fixed_noise = torch.randn((batch_size, z_dim)).to(device)"
      ],
      "metadata": {
        "id": "IZuQkfsiJb76"
      },
      "execution_count": 27,
      "outputs": []
    },
    {
      "cell_type": "code",
      "source": [
        "if batch_idx == 0:\n",
        "            print(\n",
        "                f\"Epoch [{epoch}/{num_epochs}] Batch {batch_idx}/{len(loader)} \\\n",
        "                      Loss D: {lossD:.4f}, loss G: {lossG:.4f}\"\n",
        "            )\n",
        "\n",
        "            with torch.no_grad():\n",
        "                fake = gen(fixed_noise).reshape(-1, 1, 28, 28)\n",
        "                data = real.reshape(-1, 1, 28, 28)\n",
        "                img_grid_fake = torchvision.utils.make_grid(fake, normalize=True)\n",
        "                img_grid_real = torchvision.utils.make_grid(data, normalize=True)\n",
        "\n",
        "                writer_fake.add_image(\n",
        "                    \"Mnist Fake Images\", img_grid_fake, global_step=step\n",
        "                )\n",
        "                writer_real.add_image(\n",
        "                    \"Mnist Real Images\", img_grid_real, global_step=step\n",
        "                )\n",
        "                step += 1"
      ],
      "metadata": {
        "id": "1R9BQtAcJdXS"
      },
      "execution_count": 28,
      "outputs": []
    },
    {
      "cell_type": "code",
      "source": [],
      "metadata": {
        "id": "_pet0oVcJuo2"
      },
      "execution_count": null,
      "outputs": []
    }
  ]
}